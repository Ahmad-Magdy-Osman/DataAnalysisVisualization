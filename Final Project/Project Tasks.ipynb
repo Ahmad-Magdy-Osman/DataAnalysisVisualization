{
 "cells": [
  {
   "cell_type": "markdown",
   "metadata": {},
   "source": [
    "* Flooded and Weather\n",
    "  * Average TMP for Month\n",
    "* Combine Datasets\n",
    "* Clean the price 0\n",
    "* Find the State, Town, County(sub division of a state)\n",
    "* If we find flooding, we'll\n"
   ]
  },
  {
   "cell_type": "markdown",
   "metadata": {},
   "source": [
    "https://github.com/AustinReese1998/craigslistFilter\n",
    "https://www.kaggle.com/austinreese/craigslist-carstrucks-data\n",
    "https://github.com/AustinReese1998/craigslistVehicleAnalysis\n",
    "https://github.com/AustinReese1998/finalProjectJournal\n",
    "\n",
    "Table to join: vehicles. Primary key: url. No duplicates!\n",
    "\n",
    "Columns to add: State, county (based on lat/long), weather (month of October?)\n",
    "\n",
    "If possible, remove all entries containing an improper lat/long (outside of north america/in the ocean)\n",
    "\n",
    "------------------------------------------------\n",
    "\n",
    "\n",
    "Data Gathering\n",
    "    Using SQLlitte with three different clients, I was able to merge the data gathered over the past two months. We had three different databases of about 500K rows each, and now they're merged.\n",
    "    After a lot of pain, I found https://geo.fcc.gov/api/census/#!/area/get_area, which allowed me to final get the county and the state.\n",
    "        Multiple problems here - first, for 1.7KK rows, how many requests would that be?\n",
    "        The requests of are in shape of https://geo.fcc.gov/api/census/area?lat=33.451209&lon=-79.122849&format=json, and return multiple results, which one to accept?\n",
    "        Some of the data we have is not from the US, so we have to handle that too, probably delete any outsider entries.\n",
    "            We will remove any raws with empty FIPs\n",
    "    \n",
    "    I was planning to remove empty lats/lons in Pandas, but for efficiency, I removed it in SQL so that I don't waste time dealing with that edge case in Python.\n",
    "\n",
    "    Remove entries without state in Pandas => state_name == \"FAILED\"\n",
    "\n",
    "    It truly is slow. The whole process. 1,700,000 rows will take a lot of time. I have to use multitasking.\n",
    "        I'll do patches for DB changes.\n",
    "        Async Method\n",
    "        AIOHTTP\n",
    "        Postgresql\n",
    "\n",
    "    avg of 135 request per second => 8K requeusts per minute!\n",
    "\n",
    "https://www.usclimatedata.com/climate/alabama/united-states/3170\n",
    "\n",
    "------------------------------------------------\n",
    "\n"
   ]
  }
 ],
 "metadata": {
  "kernelspec": {
   "display_name": "Python 3",
   "language": "python",
   "name": "python3"
  },
  "language_info": {
   "codemirror_mode": {
    "name": "ipython",
    "version": 3
   },
   "file_extension": ".py",
   "mimetype": "text/x-python",
   "name": "python",
   "nbconvert_exporter": "python",
   "pygments_lexer": "ipython3",
   "version": "3.6.3"
  }
 },
 "nbformat": 4,
 "nbformat_minor": 2
}
