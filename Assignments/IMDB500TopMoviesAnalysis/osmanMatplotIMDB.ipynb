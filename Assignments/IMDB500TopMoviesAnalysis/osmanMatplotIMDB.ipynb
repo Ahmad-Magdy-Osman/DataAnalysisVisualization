{
 "cells": [
  {
   "cell_type": "markdown",
   "metadata": {},
   "source": [
    "# Ahmad M. Osman - Dr. Lee, DS320\n"
   ]
  },
  {
   "cell_type": "markdown",
   "metadata": {},
   "source": [
    "## Assignment Instructions\n",
    "Use Matplotlib to explore the movie data that you created from the midterm. \n",
    "\n",
    "If you did not succeed in building your movies.csv file you can use mine from \n",
    "\n",
    "http://knuth.luther.edu/~leekent/movies.csv\n",
    "\n",
    "Build a jupyter notebook which reads the csv and then find at least 4 correlations within the data based on 2, 3, or 4 columns of data. More credit will be given to interesting correlations and you may provide more than four in your homework. \n",
    "\n",
    "Include comments in your jupyter notebook that provide the narrative for what you found. Be prepared to present on this after it is due. "
   ]
  },
  {
   "cell_type": "markdown",
   "metadata": {},
   "source": [
    "# Interesting Things I Found After Finishing the Assignment\n",
    "* Metascore is the rating of critics while IMDB rating is for users on the website. \n",
    "* There is a correlation of 0.42, which is moderate, between Metascore and IMDB rating.\n",
    "* The older the movie, the higher the rating, can be seen as there is a negative correlation between Metascore/imdbRating and Year. This is stronger for critics than IMDB users. Although, this is not a very strong conclusion in general, still can be seen.\n",
    "* There is a correlation of 0.62, which is moderate/strong, between number of IMDB votes and Adjusted Gross."
   ]
  },
  {
   "cell_type": "markdown",
   "metadata": {},
   "source": [
    "### Recipes - Please Click on Correlations to Skip my Data Exploration\n",
    "* [Looking At The Data First](#Looking-At-The-Data-First)\n",
    "* [Correlations](#Correlations)"
   ]
  },
  {
   "cell_type": "code",
   "execution_count": 114,
   "metadata": {},
   "outputs": [],
   "source": [
    "# we need these libraries\n",
    "import pandas as pd\n",
    "import numpy as np\n",
    "from IPython.display import display\n",
    "pd.options.display.max_columns = 50\n",
    "import matplotlib.pyplot as plt"
   ]
  },
  {
   "cell_type": "markdown",
   "metadata": {},
   "source": [
    "# Looking At The Data First"
   ]
  },
  {
   "cell_type": "code",
   "execution_count": 115,
   "metadata": {},
   "outputs": [],
   "source": [
    "# reading the gather info from knuth\n",
    "movies = pd.read_csv('http://knuth.luther.edu/~osmaah02/osmanTop500MoviesInflationAdjusted.csv')"
   ]
  },
  {
   "cell_type": "code",
   "execution_count": 116,
   "metadata": {},
   "outputs": [
    {
     "data": {
      "text/html": [
       "<div>\n",
       "<style scoped>\n",
       "    .dataframe tbody tr th:only-of-type {\n",
       "        vertical-align: middle;\n",
       "    }\n",
       "\n",
       "    .dataframe tbody tr th {\n",
       "        vertical-align: top;\n",
       "    }\n",
       "\n",
       "    .dataframe thead th {\n",
       "        text-align: right;\n",
       "    }\n",
       "</style>\n",
       "<table border=\"1\" class=\"dataframe\">\n",
       "  <thead>\n",
       "    <tr style=\"text-align: right;\">\n",
       "      <th></th>\n",
       "      <th>Title</th>\n",
       "      <th>Year</th>\n",
       "      <th>Rated</th>\n",
       "      <th>Released</th>\n",
       "      <th>Runtime</th>\n",
       "      <th>Genre</th>\n",
       "      <th>Director</th>\n",
       "      <th>Writer</th>\n",
       "      <th>Actors</th>\n",
       "      <th>Plot</th>\n",
       "      <th>Language</th>\n",
       "      <th>Country</th>\n",
       "      <th>Awards</th>\n",
       "      <th>Poster</th>\n",
       "      <th>Metascore</th>\n",
       "      <th>imdbRating</th>\n",
       "      <th>imdbVotes</th>\n",
       "      <th>imdbID</th>\n",
       "      <th>Type</th>\n",
       "      <th>DVD</th>\n",
       "      <th>BoxOffice</th>\n",
       "      <th>Production</th>\n",
       "      <th>Website</th>\n",
       "      <th>Response</th>\n",
       "      <th>Month</th>\n",
       "      <th>AdjustedForInflationBoxOffice</th>\n",
       "    </tr>\n",
       "  </thead>\n",
       "  <tbody>\n",
       "    <tr>\n",
       "      <th>0</th>\n",
       "      <td>The Godfather</td>\n",
       "      <td>1972</td>\n",
       "      <td>R</td>\n",
       "      <td>24-Mar-72</td>\n",
       "      <td>175 min</td>\n",
       "      <td>Crime, Drama</td>\n",
       "      <td>Francis Ford Coppola</td>\n",
       "      <td>Mario Puzo (screenplay by), Francis Ford Coppo...</td>\n",
       "      <td>Marlon Brando, Al Pacino, James Caan, Richard ...</td>\n",
       "      <td>The aging patriarch of an organized crime dyna...</td>\n",
       "      <td>English, Italian, Latin</td>\n",
       "      <td>USA</td>\n",
       "      <td>Won 3 Oscars. Another 24 wins &amp; 28 nominations.</td>\n",
       "      <td>https://m.media-amazon.com/images/M/MV5BM2MyNj...</td>\n",
       "      <td>100.0</td>\n",
       "      <td>9.2</td>\n",
       "      <td>1370696.0</td>\n",
       "      <td>tt0068646</td>\n",
       "      <td>movie</td>\n",
       "      <td>9-Oct-01</td>\n",
       "      <td>NaN</td>\n",
       "      <td>Paramount Pictures</td>\n",
       "      <td>http://www.thegodfather.com</td>\n",
       "      <td>True</td>\n",
       "      <td>Mar</td>\n",
       "      <td>0.0</td>\n",
       "    </tr>\n",
       "    <tr>\n",
       "      <th>1</th>\n",
       "      <td>Raiders of the Lost Ark</td>\n",
       "      <td>1981</td>\n",
       "      <td>PG</td>\n",
       "      <td>12-Jun-81</td>\n",
       "      <td>115 min</td>\n",
       "      <td>Action, Adventure</td>\n",
       "      <td>Steven Spielberg</td>\n",
       "      <td>Lawrence Kasdan (screenplay by), George Lucas ...</td>\n",
       "      <td>Harrison Ford, Karen Allen, Paul Freeman, Rona...</td>\n",
       "      <td>In 1936, archaeologist and adventurer Indiana ...</td>\n",
       "      <td>English, German, Hebrew, Spanish, Arabic, Nepali</td>\n",
       "      <td>USA</td>\n",
       "      <td>Won 4 Oscars. Another 30 wins &amp; 23 nominations.</td>\n",
       "      <td>https://m.media-amazon.com/images/M/MV5BMjA0OD...</td>\n",
       "      <td>85.0</td>\n",
       "      <td>8.5</td>\n",
       "      <td>776796.0</td>\n",
       "      <td>tt0082971</td>\n",
       "      <td>movie</td>\n",
       "      <td>21-Oct-03</td>\n",
       "      <td>NaN</td>\n",
       "      <td>Paramount Pictures</td>\n",
       "      <td>http://www.indianajones.com/raiders/</td>\n",
       "      <td>True</td>\n",
       "      <td>Jun</td>\n",
       "      <td>0.0</td>\n",
       "    </tr>\n",
       "    <tr>\n",
       "      <th>2</th>\n",
       "      <td>Star Wars: Episode V - The Empire Strikes Back</td>\n",
       "      <td>1980</td>\n",
       "      <td>PG</td>\n",
       "      <td>20-Jun-80</td>\n",
       "      <td>124 min</td>\n",
       "      <td>Action, Adventure, Fantasy, Sci-Fi</td>\n",
       "      <td>Irvin Kershner</td>\n",
       "      <td>Leigh Brackett (screenplay by), Lawrence Kasda...</td>\n",
       "      <td>Mark Hamill, Harrison Ford, Carrie Fisher, Bil...</td>\n",
       "      <td>After the rebels are brutally overpowered by t...</td>\n",
       "      <td>English</td>\n",
       "      <td>USA</td>\n",
       "      <td>Won 1 Oscar. Another 21 wins &amp; 19 nominations.</td>\n",
       "      <td>https://m.media-amazon.com/images/M/MV5BYmU1ND...</td>\n",
       "      <td>82.0</td>\n",
       "      <td>8.8</td>\n",
       "      <td>1007473.0</td>\n",
       "      <td>tt0080684</td>\n",
       "      <td>movie</td>\n",
       "      <td>21-Sep-04</td>\n",
       "      <td>4548170.0</td>\n",
       "      <td>Twentieth Century Fox</td>\n",
       "      <td>http://www.starwars.com/episode-v/</td>\n",
       "      <td>True</td>\n",
       "      <td>Jun</td>\n",
       "      <td>13871918.5</td>\n",
       "    </tr>\n",
       "    <tr>\n",
       "      <th>3</th>\n",
       "      <td>The Shawshank Redemption</td>\n",
       "      <td>1994</td>\n",
       "      <td>R</td>\n",
       "      <td>14-Oct-94</td>\n",
       "      <td>142 min</td>\n",
       "      <td>Drama</td>\n",
       "      <td>Frank Darabont</td>\n",
       "      <td>Stephen King (short story \"Rita Hayworth and S...</td>\n",
       "      <td>Tim Robbins, Morgan Freeman, Bob Gunton, Willi...</td>\n",
       "      <td>Two imprisoned men bond over a number of years...</td>\n",
       "      <td>English</td>\n",
       "      <td>USA</td>\n",
       "      <td>Nominated for 7 Oscars. Another 19 wins &amp; 32 n...</td>\n",
       "      <td>https://m.media-amazon.com/images/M/MV5BMDFkYT...</td>\n",
       "      <td>80.0</td>\n",
       "      <td>9.3</td>\n",
       "      <td>2005476.0</td>\n",
       "      <td>tt0111161</td>\n",
       "      <td>movie</td>\n",
       "      <td>27-Jan-98</td>\n",
       "      <td>NaN</td>\n",
       "      <td>Columbia Pictures</td>\n",
       "      <td>NaN</td>\n",
       "      <td>True</td>\n",
       "      <td>Oct</td>\n",
       "      <td>0.0</td>\n",
       "    </tr>\n",
       "    <tr>\n",
       "      <th>4</th>\n",
       "      <td>Jaws</td>\n",
       "      <td>1975</td>\n",
       "      <td>PG</td>\n",
       "      <td>20-Jun-75</td>\n",
       "      <td>124 min</td>\n",
       "      <td>Adventure, Drama, Thriller</td>\n",
       "      <td>Steven Spielberg</td>\n",
       "      <td>Peter Benchley (screenplay), Carl Gottlieb (sc...</td>\n",
       "      <td>Roy Scheider, Robert Shaw, Richard Dreyfuss, L...</td>\n",
       "      <td>A local sheriff, a marine biologist and an old...</td>\n",
       "      <td>English</td>\n",
       "      <td>USA</td>\n",
       "      <td>Won 3 Oscars. Another 11 wins &amp; 18 nominations.</td>\n",
       "      <td>https://m.media-amazon.com/images/M/MV5BMmVmOD...</td>\n",
       "      <td>87.0</td>\n",
       "      <td>8.0</td>\n",
       "      <td>489473.0</td>\n",
       "      <td>tt0073195</td>\n",
       "      <td>movie</td>\n",
       "      <td>11-Jul-00</td>\n",
       "      <td>NaN</td>\n",
       "      <td>Universal Pictures</td>\n",
       "      <td>http://www.jaws25.com/</td>\n",
       "      <td>True</td>\n",
       "      <td>Jun</td>\n",
       "      <td>0.0</td>\n",
       "    </tr>\n",
       "  </tbody>\n",
       "</table>\n",
       "</div>"
      ],
      "text/plain": [
       "                                            Title  Year Rated   Released  \\\n",
       "0                                   The Godfather  1972     R  24-Mar-72   \n",
       "1                         Raiders of the Lost Ark  1981    PG  12-Jun-81   \n",
       "2  Star Wars: Episode V - The Empire Strikes Back  1980    PG  20-Jun-80   \n",
       "3                        The Shawshank Redemption  1994     R  14-Oct-94   \n",
       "4                                            Jaws  1975    PG  20-Jun-75   \n",
       "\n",
       "   Runtime                               Genre              Director  \\\n",
       "0  175 min                        Crime, Drama  Francis Ford Coppola   \n",
       "1  115 min                   Action, Adventure      Steven Spielberg   \n",
       "2  124 min  Action, Adventure, Fantasy, Sci-Fi        Irvin Kershner   \n",
       "3  142 min                               Drama        Frank Darabont   \n",
       "4  124 min          Adventure, Drama, Thriller      Steven Spielberg   \n",
       "\n",
       "                                              Writer  \\\n",
       "0  Mario Puzo (screenplay by), Francis Ford Coppo...   \n",
       "1  Lawrence Kasdan (screenplay by), George Lucas ...   \n",
       "2  Leigh Brackett (screenplay by), Lawrence Kasda...   \n",
       "3  Stephen King (short story \"Rita Hayworth and S...   \n",
       "4  Peter Benchley (screenplay), Carl Gottlieb (sc...   \n",
       "\n",
       "                                              Actors  \\\n",
       "0  Marlon Brando, Al Pacino, James Caan, Richard ...   \n",
       "1  Harrison Ford, Karen Allen, Paul Freeman, Rona...   \n",
       "2  Mark Hamill, Harrison Ford, Carrie Fisher, Bil...   \n",
       "3  Tim Robbins, Morgan Freeman, Bob Gunton, Willi...   \n",
       "4  Roy Scheider, Robert Shaw, Richard Dreyfuss, L...   \n",
       "\n",
       "                                                Plot  \\\n",
       "0  The aging patriarch of an organized crime dyna...   \n",
       "1  In 1936, archaeologist and adventurer Indiana ...   \n",
       "2  After the rebels are brutally overpowered by t...   \n",
       "3  Two imprisoned men bond over a number of years...   \n",
       "4  A local sheriff, a marine biologist and an old...   \n",
       "\n",
       "                                           Language Country  \\\n",
       "0                           English, Italian, Latin     USA   \n",
       "1  English, German, Hebrew, Spanish, Arabic, Nepali     USA   \n",
       "2                                           English     USA   \n",
       "3                                           English     USA   \n",
       "4                                           English     USA   \n",
       "\n",
       "                                              Awards  \\\n",
       "0    Won 3 Oscars. Another 24 wins & 28 nominations.   \n",
       "1    Won 4 Oscars. Another 30 wins & 23 nominations.   \n",
       "2     Won 1 Oscar. Another 21 wins & 19 nominations.   \n",
       "3  Nominated for 7 Oscars. Another 19 wins & 32 n...   \n",
       "4    Won 3 Oscars. Another 11 wins & 18 nominations.   \n",
       "\n",
       "                                              Poster  Metascore  imdbRating  \\\n",
       "0  https://m.media-amazon.com/images/M/MV5BM2MyNj...      100.0         9.2   \n",
       "1  https://m.media-amazon.com/images/M/MV5BMjA0OD...       85.0         8.5   \n",
       "2  https://m.media-amazon.com/images/M/MV5BYmU1ND...       82.0         8.8   \n",
       "3  https://m.media-amazon.com/images/M/MV5BMDFkYT...       80.0         9.3   \n",
       "4  https://m.media-amazon.com/images/M/MV5BMmVmOD...       87.0         8.0   \n",
       "\n",
       "   imdbVotes     imdbID   Type        DVD  BoxOffice             Production  \\\n",
       "0  1370696.0  tt0068646  movie   9-Oct-01        NaN     Paramount Pictures   \n",
       "1   776796.0  tt0082971  movie  21-Oct-03        NaN     Paramount Pictures   \n",
       "2  1007473.0  tt0080684  movie  21-Sep-04  4548170.0  Twentieth Century Fox   \n",
       "3  2005476.0  tt0111161  movie  27-Jan-98        NaN      Columbia Pictures   \n",
       "4   489473.0  tt0073195  movie  11-Jul-00        NaN     Universal Pictures   \n",
       "\n",
       "                                Website Response Month  \\\n",
       "0           http://www.thegodfather.com     True   Mar   \n",
       "1  http://www.indianajones.com/raiders/     True   Jun   \n",
       "2    http://www.starwars.com/episode-v/     True   Jun   \n",
       "3                                   NaN     True   Oct   \n",
       "4                http://www.jaws25.com/     True   Jun   \n",
       "\n",
       "   AdjustedForInflationBoxOffice  \n",
       "0                            0.0  \n",
       "1                            0.0  \n",
       "2                     13871918.5  \n",
       "3                            0.0  \n",
       "4                            0.0  "
      ]
     },
     "execution_count": 116,
     "metadata": {},
     "output_type": "execute_result"
    }
   ],
   "source": [
    "# looking at the first five rows\n",
    "movies.head()"
   ]
  },
  {
   "cell_type": "code",
   "execution_count": 117,
   "metadata": {},
   "outputs": [
    {
     "data": {
      "text/plain": [
       "(500, 26)"
      ]
     },
     "execution_count": 117,
     "metadata": {},
     "output_type": "execute_result"
    }
   ],
   "source": [
    "# so we have 500 rows of 26 columns\n",
    "movies.shape"
   ]
  },
  {
   "cell_type": "code",
   "execution_count": 118,
   "metadata": {},
   "outputs": [
    {
     "data": {
      "text/html": [
       "<div>\n",
       "<style scoped>\n",
       "    .dataframe tbody tr th:only-of-type {\n",
       "        vertical-align: middle;\n",
       "    }\n",
       "\n",
       "    .dataframe tbody tr th {\n",
       "        vertical-align: top;\n",
       "    }\n",
       "\n",
       "    .dataframe thead th {\n",
       "        text-align: right;\n",
       "    }\n",
       "</style>\n",
       "<table border=\"1\" class=\"dataframe\">\n",
       "  <thead>\n",
       "    <tr style=\"text-align: right;\">\n",
       "      <th></th>\n",
       "      <th>count</th>\n",
       "      <th>mean</th>\n",
       "      <th>std</th>\n",
       "      <th>min</th>\n",
       "      <th>25%</th>\n",
       "      <th>50%</th>\n",
       "      <th>75%</th>\n",
       "      <th>max</th>\n",
       "    </tr>\n",
       "  </thead>\n",
       "  <tbody>\n",
       "    <tr>\n",
       "      <th>Year</th>\n",
       "      <td>500.0</td>\n",
       "      <td>1.980032e+03</td>\n",
       "      <td>2.077957e+01</td>\n",
       "      <td>1924.0</td>\n",
       "      <td>1966.0</td>\n",
       "      <td>1984.0</td>\n",
       "      <td>1998.0</td>\n",
       "      <td>2008.0</td>\n",
       "    </tr>\n",
       "    <tr>\n",
       "      <th>Metascore</th>\n",
       "      <td>379.0</td>\n",
       "      <td>7.920844e+01</td>\n",
       "      <td>1.240184e+01</td>\n",
       "      <td>41.0</td>\n",
       "      <td>70.0</td>\n",
       "      <td>80.0</td>\n",
       "      <td>89.0</td>\n",
       "      <td>100.0</td>\n",
       "    </tr>\n",
       "    <tr>\n",
       "      <th>imdbRating</th>\n",
       "      <td>500.0</td>\n",
       "      <td>7.871800e+00</td>\n",
       "      <td>4.879148e-01</td>\n",
       "      <td>5.7</td>\n",
       "      <td>7.6</td>\n",
       "      <td>7.9</td>\n",
       "      <td>8.2</td>\n",
       "      <td>9.3</td>\n",
       "    </tr>\n",
       "    <tr>\n",
       "      <th>imdbVotes</th>\n",
       "      <td>499.0</td>\n",
       "      <td>2.706051e+05</td>\n",
       "      <td>3.250212e+05</td>\n",
       "      <td>1839.0</td>\n",
       "      <td>39425.5</td>\n",
       "      <td>152514.0</td>\n",
       "      <td>372048.0</td>\n",
       "      <td>2005476.0</td>\n",
       "    </tr>\n",
       "    <tr>\n",
       "      <th>BoxOffice</th>\n",
       "      <td>103.0</td>\n",
       "      <td>9.913201e+07</td>\n",
       "      <td>1.267996e+08</td>\n",
       "      <td>17599.0</td>\n",
       "      <td>5166076.0</td>\n",
       "      <td>44566004.0</td>\n",
       "      <td>155194037.0</td>\n",
       "      <td>533316061.0</td>\n",
       "    </tr>\n",
       "    <tr>\n",
       "      <th>AdjustedForInflationBoxOffice</th>\n",
       "      <td>500.0</td>\n",
       "      <td>2.744930e+07</td>\n",
       "      <td>9.370915e+07</td>\n",
       "      <td>0.0</td>\n",
       "      <td>0.0</td>\n",
       "      <td>0.0</td>\n",
       "      <td>0.0</td>\n",
       "      <td>655120000.0</td>\n",
       "    </tr>\n",
       "  </tbody>\n",
       "</table>\n",
       "</div>"
      ],
      "text/plain": [
       "                               count          mean           std      min  \\\n",
       "Year                           500.0  1.980032e+03  2.077957e+01   1924.0   \n",
       "Metascore                      379.0  7.920844e+01  1.240184e+01     41.0   \n",
       "imdbRating                     500.0  7.871800e+00  4.879148e-01      5.7   \n",
       "imdbVotes                      499.0  2.706051e+05  3.250212e+05   1839.0   \n",
       "BoxOffice                      103.0  9.913201e+07  1.267996e+08  17599.0   \n",
       "AdjustedForInflationBoxOffice  500.0  2.744930e+07  9.370915e+07      0.0   \n",
       "\n",
       "                                     25%         50%          75%          max  \n",
       "Year                              1966.0      1984.0       1998.0       2008.0  \n",
       "Metascore                           70.0        80.0         89.0        100.0  \n",
       "imdbRating                           7.6         7.9          8.2          9.3  \n",
       "imdbVotes                        39425.5    152514.0     372048.0    2005476.0  \n",
       "BoxOffice                      5166076.0  44566004.0  155194037.0  533316061.0  \n",
       "AdjustedForInflationBoxOffice        0.0         0.0          0.0  655120000.0  "
      ]
     },
     "metadata": {},
     "output_type": "display_data"
    }
   ],
   "source": [
    "# lets look at data description, numerical value variables only\n",
    "with pd.option_context('display.max_rows', 8):\n",
    "    display(movies.describe(include=[np.number]).T)"
   ]
  },
  {
   "cell_type": "code",
   "execution_count": 119,
   "metadata": {},
   "outputs": [
    {
     "data": {
      "text/html": [
       "<div>\n",
       "<style scoped>\n",
       "    .dataframe tbody tr th:only-of-type {\n",
       "        vertical-align: middle;\n",
       "    }\n",
       "\n",
       "    .dataframe tbody tr th {\n",
       "        vertical-align: top;\n",
       "    }\n",
       "\n",
       "    .dataframe thead th {\n",
       "        text-align: right;\n",
       "    }\n",
       "</style>\n",
       "<table border=\"1\" class=\"dataframe\">\n",
       "  <thead>\n",
       "    <tr style=\"text-align: right;\">\n",
       "      <th></th>\n",
       "      <th>count</th>\n",
       "      <th>unique</th>\n",
       "      <th>top</th>\n",
       "      <th>freq</th>\n",
       "    </tr>\n",
       "  </thead>\n",
       "  <tbody>\n",
       "    <tr>\n",
       "      <th>Title</th>\n",
       "      <td>500</td>\n",
       "      <td>498</td>\n",
       "      <td>King Kong</td>\n",
       "      <td>2</td>\n",
       "    </tr>\n",
       "    <tr>\n",
       "      <th>Rated</th>\n",
       "      <td>492</td>\n",
       "      <td>12</td>\n",
       "      <td>R</td>\n",
       "      <td>210</td>\n",
       "    </tr>\n",
       "    <tr>\n",
       "      <th>Released</th>\n",
       "      <td>499</td>\n",
       "      <td>483</td>\n",
       "      <td>20-Jun-80</td>\n",
       "      <td>2</td>\n",
       "    </tr>\n",
       "    <tr>\n",
       "      <th>Runtime</th>\n",
       "      <td>500</td>\n",
       "      <td>125</td>\n",
       "      <td>110 min</td>\n",
       "      <td>19</td>\n",
       "    </tr>\n",
       "    <tr>\n",
       "      <th>Genre</th>\n",
       "      <td>500</td>\n",
       "      <td>179</td>\n",
       "      <td>Drama</td>\n",
       "      <td>37</td>\n",
       "    </tr>\n",
       "    <tr>\n",
       "      <th>Director</th>\n",
       "      <td>499</td>\n",
       "      <td>299</td>\n",
       "      <td>Steven Spielberg</td>\n",
       "      <td>11</td>\n",
       "    </tr>\n",
       "    <tr>\n",
       "      <th>Writer</th>\n",
       "      <td>497</td>\n",
       "      <td>472</td>\n",
       "      <td>Woody Allen</td>\n",
       "      <td>4</td>\n",
       "    </tr>\n",
       "    <tr>\n",
       "      <th>Actors</th>\n",
       "      <td>499</td>\n",
       "      <td>498</td>\n",
       "      <td>Mark Hamill, Harrison Ford, Carrie Fisher, Bil...</td>\n",
       "      <td>2</td>\n",
       "    </tr>\n",
       "    <tr>\n",
       "      <th>Plot</th>\n",
       "      <td>500</td>\n",
       "      <td>500</td>\n",
       "      <td>Ambitious but troubled movie director Edward D...</td>\n",
       "      <td>1</td>\n",
       "    </tr>\n",
       "    <tr>\n",
       "      <th>Language</th>\n",
       "      <td>499</td>\n",
       "      <td>154</td>\n",
       "      <td>English</td>\n",
       "      <td>210</td>\n",
       "    </tr>\n",
       "    <tr>\n",
       "      <th>Country</th>\n",
       "      <td>500</td>\n",
       "      <td>85</td>\n",
       "      <td>USA</td>\n",
       "      <td>283</td>\n",
       "    </tr>\n",
       "    <tr>\n",
       "      <th>Awards</th>\n",
       "      <td>483</td>\n",
       "      <td>415</td>\n",
       "      <td>1 win.</td>\n",
       "      <td>10</td>\n",
       "    </tr>\n",
       "    <tr>\n",
       "      <th>Poster</th>\n",
       "      <td>500</td>\n",
       "      <td>500</td>\n",
       "      <td>https://images-na.ssl-images-amazon.com/images...</td>\n",
       "      <td>1</td>\n",
       "    </tr>\n",
       "    <tr>\n",
       "      <th>imdbID</th>\n",
       "      <td>500</td>\n",
       "      <td>500</td>\n",
       "      <td>tt0018737</td>\n",
       "      <td>1</td>\n",
       "    </tr>\n",
       "    <tr>\n",
       "      <th>Type</th>\n",
       "      <td>500</td>\n",
       "      <td>2</td>\n",
       "      <td>movie</td>\n",
       "      <td>499</td>\n",
       "    </tr>\n",
       "    <tr>\n",
       "      <th>DVD</th>\n",
       "      <td>490</td>\n",
       "      <td>330</td>\n",
       "      <td>29-Jun-99</td>\n",
       "      <td>6</td>\n",
       "    </tr>\n",
       "    <tr>\n",
       "      <th>Production</th>\n",
       "      <td>491</td>\n",
       "      <td>145</td>\n",
       "      <td>Paramount Pictures</td>\n",
       "      <td>45</td>\n",
       "    </tr>\n",
       "    <tr>\n",
       "      <th>Website</th>\n",
       "      <td>190</td>\n",
       "      <td>184</td>\n",
       "      <td>http://www.indianajones.com/</td>\n",
       "      <td>3</td>\n",
       "    </tr>\n",
       "    <tr>\n",
       "      <th>Response</th>\n",
       "      <td>499</td>\n",
       "      <td>1</td>\n",
       "      <td>True</td>\n",
       "      <td>499</td>\n",
       "    </tr>\n",
       "    <tr>\n",
       "      <th>Month</th>\n",
       "      <td>499</td>\n",
       "      <td>13</td>\n",
       "      <td>Jun</td>\n",
       "      <td>62</td>\n",
       "    </tr>\n",
       "  </tbody>\n",
       "</table>\n",
       "</div>"
      ],
      "text/plain": [
       "           count unique                                                top  \\\n",
       "Title        500    498                                          King Kong   \n",
       "Rated        492     12                                                  R   \n",
       "Released     499    483                                          20-Jun-80   \n",
       "Runtime      500    125                                            110 min   \n",
       "Genre        500    179                                              Drama   \n",
       "Director     499    299                                   Steven Spielberg   \n",
       "Writer       497    472                                        Woody Allen   \n",
       "Actors       499    498  Mark Hamill, Harrison Ford, Carrie Fisher, Bil...   \n",
       "Plot         500    500  Ambitious but troubled movie director Edward D...   \n",
       "Language     499    154                                            English   \n",
       "Country      500     85                                                USA   \n",
       "Awards       483    415                                             1 win.   \n",
       "Poster       500    500  https://images-na.ssl-images-amazon.com/images...   \n",
       "imdbID       500    500                                          tt0018737   \n",
       "Type         500      2                                              movie   \n",
       "DVD          490    330                                          29-Jun-99   \n",
       "Production   491    145                                 Paramount Pictures   \n",
       "Website      190    184                       http://www.indianajones.com/   \n",
       "Response     499      1                                               True   \n",
       "Month        499     13                                                Jun   \n",
       "\n",
       "           freq  \n",
       "Title         2  \n",
       "Rated       210  \n",
       "Released      2  \n",
       "Runtime      19  \n",
       "Genre        37  \n",
       "Director     11  \n",
       "Writer        4  \n",
       "Actors        2  \n",
       "Plot          1  \n",
       "Language    210  \n",
       "Country     283  \n",
       "Awards       10  \n",
       "Poster        1  \n",
       "imdbID        1  \n",
       "Type        499  \n",
       "DVD           6  \n",
       "Production   45  \n",
       "Website       3  \n",
       "Response    499  \n",
       "Month        62  "
      ]
     },
     "execution_count": 119,
     "metadata": {},
     "output_type": "execute_result"
    }
   ],
   "source": [
    "# now lets do the same for categorical variables\n",
    "movies.describe(include=[np.object, pd.Categorical]).T\n",
    "# looks like we have two beauty and the beast movies\n",
    "# also, 2004 seems to be a full of creativity year!"
   ]
  },
  {
   "cell_type": "code",
   "execution_count": 120,
   "metadata": {},
   "outputs": [
    {
     "data": {
      "text/plain": [
       "False    498\n",
       "True       2\n",
       "Name: Title, dtype: int64"
      ]
     },
     "execution_count": 120,
     "metadata": {},
     "output_type": "execute_result"
    }
   ],
   "source": [
    "(movies[\"Title\"] == \"Beauty and the Beast\").value_counts()"
   ]
  },
  {
   "cell_type": "code",
   "execution_count": 121,
   "metadata": {},
   "outputs": [
    {
     "name": "stdout",
     "output_type": "stream",
     "text": [
      "<class 'pandas.core.frame.DataFrame'>\n",
      "RangeIndex: 500 entries, 0 to 499\n",
      "Data columns (total 26 columns):\n",
      "Title                            500 non-null object\n",
      "Year                             500 non-null int64\n",
      "Rated                            492 non-null object\n",
      "Released                         499 non-null object\n",
      "Runtime                          500 non-null object\n",
      "Genre                            500 non-null object\n",
      "Director                         499 non-null object\n",
      "Writer                           497 non-null object\n",
      "Actors                           499 non-null object\n",
      "Plot                             500 non-null object\n",
      "Language                         499 non-null object\n",
      "Country                          500 non-null object\n",
      "Awards                           483 non-null object\n",
      "Poster                           500 non-null object\n",
      "Metascore                        379 non-null float64\n",
      "imdbRating                       500 non-null float64\n",
      "imdbVotes                        499 non-null float64\n",
      "imdbID                           500 non-null object\n",
      "Type                             500 non-null object\n",
      "DVD                              490 non-null object\n",
      "BoxOffice                        103 non-null float64\n",
      "Production                       491 non-null object\n",
      "Website                          190 non-null object\n",
      "Response                         499 non-null object\n",
      "Month                            499 non-null object\n",
      "AdjustedForInflationBoxOffice    500 non-null float64\n",
      "dtypes: float64(5), int64(1), object(20)\n",
      "memory usage: 101.6+ KB\n"
     ]
    }
   ],
   "source": [
    "# lets get some info about this DataFrame - \n",
    "# This tells us how many non-null objects for each column\n",
    "movies.info()"
   ]
  },
  {
   "cell_type": "code",
   "execution_count": 122,
   "metadata": {},
   "outputs": [
    {
     "data": {
      "text/plain": [
       "Title                              0\n",
       "Year                               0\n",
       "Rated                              8\n",
       "Released                           1\n",
       "Runtime                            0\n",
       "Genre                              0\n",
       "Director                           1\n",
       "Writer                             3\n",
       "Actors                             1\n",
       "Plot                               0\n",
       "Language                           1\n",
       "Country                            0\n",
       "Awards                            17\n",
       "Poster                             0\n",
       "Metascore                        121\n",
       "imdbRating                         0\n",
       "imdbVotes                          1\n",
       "imdbID                             0\n",
       "Type                               0\n",
       "DVD                               10\n",
       "BoxOffice                        397\n",
       "Production                         9\n",
       "Website                          310\n",
       "Response                           1\n",
       "Month                              1\n",
       "AdjustedForInflationBoxOffice      0\n",
       "dtype: int64"
      ]
     },
     "execution_count": 122,
     "metadata": {},
     "output_type": "execute_result"
    }
   ],
   "source": [
    "# lets count the nulls?\n",
    "movies.isnull().sum()\n"
   ]
  },
  {
   "cell_type": "code",
   "execution_count": 123,
   "metadata": {},
   "outputs": [],
   "source": [
    "# looks like we have a lot of them - lets drop the ones that \n",
    "# do not have box office values\n",
    "movies = movies.dropna(subset=[\"BoxOffice\"])"
   ]
  },
  {
   "cell_type": "code",
   "execution_count": 124,
   "metadata": {},
   "outputs": [
    {
     "data": {
      "text/plain": [
       "Title                            103\n",
       "Year                             103\n",
       "Rated                            103\n",
       "Released                         103\n",
       "Runtime                          103\n",
       "Genre                            103\n",
       "Director                         103\n",
       "Writer                           103\n",
       "Actors                           103\n",
       "Plot                             103\n",
       "Language                         103\n",
       "Country                          103\n",
       "Awards                           103\n",
       "Poster                           103\n",
       "Metascore                         99\n",
       "imdbRating                       103\n",
       "imdbVotes                        103\n",
       "imdbID                           103\n",
       "Type                             103\n",
       "DVD                              103\n",
       "BoxOffice                        103\n",
       "Production                       103\n",
       "Website                           96\n",
       "Response                         103\n",
       "Month                            103\n",
       "AdjustedForInflationBoxOffice    103\n",
       "dtype: int64"
      ]
     },
     "execution_count": 124,
     "metadata": {},
     "output_type": "execute_result"
    }
   ],
   "source": [
    "# and we are left with?\n",
    "movies.count()"
   ]
  },
  {
   "cell_type": "code",
   "execution_count": 125,
   "metadata": {},
   "outputs": [
    {
     "data": {
      "text/plain": [
       "Index(['Title', 'Year', 'Rated', 'Released', 'Runtime', 'Genre', 'Director',\n",
       "       'Writer', 'Actors', 'Plot', 'Language', 'Country', 'Awards', 'Poster',\n",
       "       'Metascore', 'imdbRating', 'imdbVotes', 'imdbID', 'Type', 'DVD',\n",
       "       'BoxOffice', 'Production', 'Website', 'Response', 'Month',\n",
       "       'AdjustedForInflationBoxOffice'],\n",
       "      dtype='object')"
      ]
     },
     "execution_count": 125,
     "metadata": {},
     "output_type": "execute_result"
    }
   ],
   "source": [
    "# what columns do we have?\n",
    "movies.columns"
   ]
  },
  {
   "cell_type": "code",
   "execution_count": 126,
   "metadata": {},
   "outputs": [
    {
     "data": {
      "text/html": [
       "<div>\n",
       "<style scoped>\n",
       "    .dataframe tbody tr th:only-of-type {\n",
       "        vertical-align: middle;\n",
       "    }\n",
       "\n",
       "    .dataframe tbody tr th {\n",
       "        vertical-align: top;\n",
       "    }\n",
       "\n",
       "    .dataframe thead th {\n",
       "        text-align: right;\n",
       "    }\n",
       "</style>\n",
       "<table border=\"1\" class=\"dataframe\">\n",
       "  <thead>\n",
       "    <tr style=\"text-align: right;\">\n",
       "      <th></th>\n",
       "      <th>count</th>\n",
       "      <th>mean</th>\n",
       "      <th>std</th>\n",
       "      <th>min</th>\n",
       "      <th>25%</th>\n",
       "      <th>50%</th>\n",
       "      <th>75%</th>\n",
       "      <th>max</th>\n",
       "    </tr>\n",
       "  </thead>\n",
       "  <tbody>\n",
       "    <tr>\n",
       "      <th>Year</th>\n",
       "      <td>103.0</td>\n",
       "      <td>1.998417e+03</td>\n",
       "      <td>1.586000e+01</td>\n",
       "      <td>1925.0</td>\n",
       "      <td>2000.50</td>\n",
       "      <td>2004.0</td>\n",
       "      <td>2006.0</td>\n",
       "      <td>2008.0</td>\n",
       "    </tr>\n",
       "    <tr>\n",
       "      <th>Metascore</th>\n",
       "      <td>99.0</td>\n",
       "      <td>7.753535e+01</td>\n",
       "      <td>1.197303e+01</td>\n",
       "      <td>46.0</td>\n",
       "      <td>68.00</td>\n",
       "      <td>80.0</td>\n",
       "      <td>85.5</td>\n",
       "      <td>100.0</td>\n",
       "    </tr>\n",
       "    <tr>\n",
       "      <th>imdbRating</th>\n",
       "      <td>103.0</td>\n",
       "      <td>7.828155e+00</td>\n",
       "      <td>5.645435e-01</td>\n",
       "      <td>6.1</td>\n",
       "      <td>7.50</td>\n",
       "      <td>7.9</td>\n",
       "      <td>8.2</td>\n",
       "      <td>9.0</td>\n",
       "    </tr>\n",
       "    <tr>\n",
       "      <th>imdbVotes</th>\n",
       "      <td>103.0</td>\n",
       "      <td>4.686225e+05</td>\n",
       "      <td>3.679558e+05</td>\n",
       "      <td>6831.0</td>\n",
       "      <td>216119.50</td>\n",
       "      <td>391323.0</td>\n",
       "      <td>632194.5</td>\n",
       "      <td>1969949.0</td>\n",
       "    </tr>\n",
       "    <tr>\n",
       "      <th>BoxOffice</th>\n",
       "      <td>103.0</td>\n",
       "      <td>9.913201e+07</td>\n",
       "      <td>1.267996e+08</td>\n",
       "      <td>17599.0</td>\n",
       "      <td>5166076.00</td>\n",
       "      <td>44566004.0</td>\n",
       "      <td>155194037.0</td>\n",
       "      <td>533316061.0</td>\n",
       "    </tr>\n",
       "    <tr>\n",
       "      <th>AdjustedForInflationBoxOffice</th>\n",
       "      <td>103.0</td>\n",
       "      <td>1.332490e+08</td>\n",
       "      <td>1.694818e+08</td>\n",
       "      <td>52414.6</td>\n",
       "      <td>8749140.73</td>\n",
       "      <td>62860656.6</td>\n",
       "      <td>190408024.0</td>\n",
       "      <td>655120000.0</td>\n",
       "    </tr>\n",
       "  </tbody>\n",
       "</table>\n",
       "</div>"
      ],
      "text/plain": [
       "                               count          mean           std      min  \\\n",
       "Year                           103.0  1.998417e+03  1.586000e+01   1925.0   \n",
       "Metascore                       99.0  7.753535e+01  1.197303e+01     46.0   \n",
       "imdbRating                     103.0  7.828155e+00  5.645435e-01      6.1   \n",
       "imdbVotes                      103.0  4.686225e+05  3.679558e+05   6831.0   \n",
       "BoxOffice                      103.0  9.913201e+07  1.267996e+08  17599.0   \n",
       "AdjustedForInflationBoxOffice  103.0  1.332490e+08  1.694818e+08  52414.6   \n",
       "\n",
       "                                      25%         50%          75%  \\\n",
       "Year                              2000.50      2004.0       2006.0   \n",
       "Metascore                           68.00        80.0         85.5   \n",
       "imdbRating                           7.50         7.9          8.2   \n",
       "imdbVotes                       216119.50    391323.0     632194.5   \n",
       "BoxOffice                      5166076.00  44566004.0  155194037.0   \n",
       "AdjustedForInflationBoxOffice  8749140.73  62860656.6  190408024.0   \n",
       "\n",
       "                                       max  \n",
       "Year                                2008.0  \n",
       "Metascore                            100.0  \n",
       "imdbRating                             9.0  \n",
       "imdbVotes                        1969949.0  \n",
       "BoxOffice                      533316061.0  \n",
       "AdjustedForInflationBoxOffice  655120000.0  "
      ]
     },
     "execution_count": 126,
     "metadata": {},
     "output_type": "execute_result"
    }
   ],
   "source": [
    "# one more statistical description on numerical columns\n",
    "movies.describe(include=[np.number]).T"
   ]
  },
  {
   "cell_type": "code",
   "execution_count": 127,
   "metadata": {},
   "outputs": [
    {
     "data": {
      "text/html": [
       "<div>\n",
       "<style scoped>\n",
       "    .dataframe tbody tr th:only-of-type {\n",
       "        vertical-align: middle;\n",
       "    }\n",
       "\n",
       "    .dataframe tbody tr th {\n",
       "        vertical-align: top;\n",
       "    }\n",
       "\n",
       "    .dataframe thead th {\n",
       "        text-align: right;\n",
       "    }\n",
       "</style>\n",
       "<table border=\"1\" class=\"dataframe\">\n",
       "  <thead>\n",
       "    <tr style=\"text-align: right;\">\n",
       "      <th></th>\n",
       "      <th>count</th>\n",
       "      <th>unique</th>\n",
       "      <th>top</th>\n",
       "      <th>freq</th>\n",
       "    </tr>\n",
       "  </thead>\n",
       "  <tbody>\n",
       "    <tr>\n",
       "      <th>Title</th>\n",
       "      <td>103</td>\n",
       "      <td>103</td>\n",
       "      <td>Superbad</td>\n",
       "      <td>1</td>\n",
       "    </tr>\n",
       "    <tr>\n",
       "      <th>Rated</th>\n",
       "      <td>103</td>\n",
       "      <td>6</td>\n",
       "      <td>R</td>\n",
       "      <td>47</td>\n",
       "    </tr>\n",
       "    <tr>\n",
       "      <th>Released</th>\n",
       "      <td>103</td>\n",
       "      <td>99</td>\n",
       "      <td>3-Jun-05</td>\n",
       "      <td>2</td>\n",
       "    </tr>\n",
       "    <tr>\n",
       "      <th>Runtime</th>\n",
       "      <td>103</td>\n",
       "      <td>64</td>\n",
       "      <td>102 min</td>\n",
       "      <td>5</td>\n",
       "    </tr>\n",
       "    <tr>\n",
       "      <th>Genre</th>\n",
       "      <td>103</td>\n",
       "      <td>65</td>\n",
       "      <td>Drama</td>\n",
       "      <td>6</td>\n",
       "    </tr>\n",
       "    <tr>\n",
       "      <th>Director</th>\n",
       "      <td>103</td>\n",
       "      <td>86</td>\n",
       "      <td>Peter Jackson</td>\n",
       "      <td>4</td>\n",
       "    </tr>\n",
       "    <tr>\n",
       "      <th>Writer</th>\n",
       "      <td>103</td>\n",
       "      <td>102</td>\n",
       "      <td>J.R.R. Tolkien (novel), Fran Walsh (screenplay...</td>\n",
       "      <td>2</td>\n",
       "    </tr>\n",
       "    <tr>\n",
       "      <th>Actors</th>\n",
       "      <td>103</td>\n",
       "      <td>103</td>\n",
       "      <td>George Clooney, Cecelia Ann Birt, Paul L. Nola...</td>\n",
       "      <td>1</td>\n",
       "    </tr>\n",
       "    <tr>\n",
       "      <th>Plot</th>\n",
       "      <td>103</td>\n",
       "      <td>103</td>\n",
       "      <td>A filmmaker recalls his childhood when falling...</td>\n",
       "      <td>1</td>\n",
       "    </tr>\n",
       "    <tr>\n",
       "      <th>Language</th>\n",
       "      <td>103</td>\n",
       "      <td>47</td>\n",
       "      <td>English</td>\n",
       "      <td>34</td>\n",
       "    </tr>\n",
       "    <tr>\n",
       "      <th>Country</th>\n",
       "      <td>103</td>\n",
       "      <td>39</td>\n",
       "      <td>USA</td>\n",
       "      <td>45</td>\n",
       "    </tr>\n",
       "    <tr>\n",
       "      <th>Awards</th>\n",
       "      <td>103</td>\n",
       "      <td>102</td>\n",
       "      <td>2 wins &amp; 9 nominations.</td>\n",
       "      <td>2</td>\n",
       "    </tr>\n",
       "    <tr>\n",
       "      <th>Poster</th>\n",
       "      <td>103</td>\n",
       "      <td>103</td>\n",
       "      <td>https://m.media-amazon.com/images/M/MV5BNGYyZG...</td>\n",
       "      <td>1</td>\n",
       "    </tr>\n",
       "    <tr>\n",
       "      <th>imdbID</th>\n",
       "      <td>103</td>\n",
       "      <td>103</td>\n",
       "      <td>tt0338013</td>\n",
       "      <td>1</td>\n",
       "    </tr>\n",
       "    <tr>\n",
       "      <th>Type</th>\n",
       "      <td>103</td>\n",
       "      <td>1</td>\n",
       "      <td>movie</td>\n",
       "      <td>103</td>\n",
       "    </tr>\n",
       "    <tr>\n",
       "      <th>DVD</th>\n",
       "      <td>103</td>\n",
       "      <td>96</td>\n",
       "      <td>5-Feb-08</td>\n",
       "      <td>2</td>\n",
       "    </tr>\n",
       "    <tr>\n",
       "      <th>Production</th>\n",
       "      <td>103</td>\n",
       "      <td>49</td>\n",
       "      <td>Warner Bros. Pictures</td>\n",
       "      <td>11</td>\n",
       "    </tr>\n",
       "    <tr>\n",
       "      <th>Website</th>\n",
       "      <td>96</td>\n",
       "      <td>94</td>\n",
       "      <td>http://spiderman.sonypictures.com/</td>\n",
       "      <td>2</td>\n",
       "    </tr>\n",
       "    <tr>\n",
       "      <th>Response</th>\n",
       "      <td>103</td>\n",
       "      <td>1</td>\n",
       "      <td>True</td>\n",
       "      <td>103</td>\n",
       "    </tr>\n",
       "    <tr>\n",
       "      <th>Month</th>\n",
       "      <td>103</td>\n",
       "      <td>12</td>\n",
       "      <td>Jun</td>\n",
       "      <td>15</td>\n",
       "    </tr>\n",
       "  </tbody>\n",
       "</table>\n",
       "</div>"
      ],
      "text/plain": [
       "           count unique                                                top  \\\n",
       "Title        103    103                                           Superbad   \n",
       "Rated        103      6                                                  R   \n",
       "Released     103     99                                           3-Jun-05   \n",
       "Runtime      103     64                                            102 min   \n",
       "Genre        103     65                                              Drama   \n",
       "Director     103     86                                      Peter Jackson   \n",
       "Writer       103    102  J.R.R. Tolkien (novel), Fran Walsh (screenplay...   \n",
       "Actors       103    103  George Clooney, Cecelia Ann Birt, Paul L. Nola...   \n",
       "Plot         103    103  A filmmaker recalls his childhood when falling...   \n",
       "Language     103     47                                            English   \n",
       "Country      103     39                                                USA   \n",
       "Awards       103    102                            2 wins & 9 nominations.   \n",
       "Poster       103    103  https://m.media-amazon.com/images/M/MV5BNGYyZG...   \n",
       "imdbID       103    103                                          tt0338013   \n",
       "Type         103      1                                              movie   \n",
       "DVD          103     96                                           5-Feb-08   \n",
       "Production   103     49                              Warner Bros. Pictures   \n",
       "Website       96     94                 http://spiderman.sonypictures.com/   \n",
       "Response     103      1                                               True   \n",
       "Month        103     12                                                Jun   \n",
       "\n",
       "           freq  \n",
       "Title         1  \n",
       "Rated        47  \n",
       "Released      2  \n",
       "Runtime       5  \n",
       "Genre         6  \n",
       "Director      4  \n",
       "Writer        2  \n",
       "Actors        1  \n",
       "Plot          1  \n",
       "Language     34  \n",
       "Country      45  \n",
       "Awards        2  \n",
       "Poster        1  \n",
       "imdbID        1  \n",
       "Type        103  \n",
       "DVD           2  \n",
       "Production   11  \n",
       "Website       2  \n",
       "Response    103  \n",
       "Month        15  "
      ]
     },
     "execution_count": 127,
     "metadata": {},
     "output_type": "execute_result"
    }
   ],
   "source": [
    "# one more statistical description on categorical columns\n",
    "movies.describe(include=[np.object, pd.Categorical]).T\n",
    "# I am so happy seeing Christopher Nolan as the highest frequent director!"
   ]
  },
  {
   "cell_type": "code",
   "execution_count": 128,
   "metadata": {},
   "outputs": [
    {
     "data": {
      "text/html": [
       "<div>\n",
       "<style scoped>\n",
       "    .dataframe tbody tr th:only-of-type {\n",
       "        vertical-align: middle;\n",
       "    }\n",
       "\n",
       "    .dataframe tbody tr th {\n",
       "        vertical-align: top;\n",
       "    }\n",
       "\n",
       "    .dataframe thead th {\n",
       "        text-align: right;\n",
       "    }\n",
       "</style>\n",
       "<table border=\"1\" class=\"dataframe\">\n",
       "  <thead>\n",
       "    <tr style=\"text-align: right;\">\n",
       "      <th></th>\n",
       "      <th>count</th>\n",
       "      <th>mean</th>\n",
       "      <th>std</th>\n",
       "      <th>min</th>\n",
       "      <th>1%</th>\n",
       "      <th>5%</th>\n",
       "      <th>10%</th>\n",
       "      <th>25%</th>\n",
       "      <th>50%</th>\n",
       "      <th>75%</th>\n",
       "      <th>90%</th>\n",
       "      <th>95%</th>\n",
       "      <th>99%</th>\n",
       "      <th>max</th>\n",
       "    </tr>\n",
       "  </thead>\n",
       "  <tbody>\n",
       "    <tr>\n",
       "      <th>Year</th>\n",
       "      <td>103.0</td>\n",
       "      <td>1.998417e+03</td>\n",
       "      <td>1.586000e+01</td>\n",
       "      <td>1925.0</td>\n",
       "      <td>1931.1400</td>\n",
       "      <td>1966.20</td>\n",
       "      <td>1985.40</td>\n",
       "      <td>2000.50</td>\n",
       "      <td>2004.0</td>\n",
       "      <td>2006.0</td>\n",
       "      <td>2.007000e+03</td>\n",
       "      <td>2.007000e+03</td>\n",
       "      <td>2.008000e+03</td>\n",
       "      <td>2008.0</td>\n",
       "    </tr>\n",
       "    <tr>\n",
       "      <th>Metascore</th>\n",
       "      <td>99.0</td>\n",
       "      <td>7.753535e+01</td>\n",
       "      <td>1.197303e+01</td>\n",
       "      <td>46.0</td>\n",
       "      <td>50.9000</td>\n",
       "      <td>54.80</td>\n",
       "      <td>62.00</td>\n",
       "      <td>68.00</td>\n",
       "      <td>80.0</td>\n",
       "      <td>85.5</td>\n",
       "      <td>9.220000e+01</td>\n",
       "      <td>9.500000e+01</td>\n",
       "      <td>9.804000e+01</td>\n",
       "      <td>100.0</td>\n",
       "    </tr>\n",
       "    <tr>\n",
       "      <th>...</th>\n",
       "      <td>...</td>\n",
       "      <td>...</td>\n",
       "      <td>...</td>\n",
       "      <td>...</td>\n",
       "      <td>...</td>\n",
       "      <td>...</td>\n",
       "      <td>...</td>\n",
       "      <td>...</td>\n",
       "      <td>...</td>\n",
       "      <td>...</td>\n",
       "      <td>...</td>\n",
       "      <td>...</td>\n",
       "      <td>...</td>\n",
       "      <td>...</td>\n",
       "    </tr>\n",
       "    <tr>\n",
       "      <th>BoxOffice</th>\n",
       "      <td>103.0</td>\n",
       "      <td>9.913201e+07</td>\n",
       "      <td>1.267996e+08</td>\n",
       "      <td>17599.0</td>\n",
       "      <td>26978.4800</td>\n",
       "      <td>146021.00</td>\n",
       "      <td>641454.60</td>\n",
       "      <td>5166076.00</td>\n",
       "      <td>44566004.0</td>\n",
       "      <td>155194037.0</td>\n",
       "      <td>3.180300e+08</td>\n",
       "      <td>3.724401e+08</td>\n",
       "      <td>4.308407e+08</td>\n",
       "      <td>533316061.0</td>\n",
       "    </tr>\n",
       "    <tr>\n",
       "      <th>AdjustedForInflationBoxOffice</th>\n",
       "      <td>103.0</td>\n",
       "      <td>1.332490e+08</td>\n",
       "      <td>1.694818e+08</td>\n",
       "      <td>52414.6</td>\n",
       "      <td>295950.6196</td>\n",
       "      <td>539814.12</td>\n",
       "      <td>1779524.04</td>\n",
       "      <td>8749140.73</td>\n",
       "      <td>62860656.6</td>\n",
       "      <td>190408024.0</td>\n",
       "      <td>4.118577e+08</td>\n",
       "      <td>5.190607e+08</td>\n",
       "      <td>6.123510e+08</td>\n",
       "      <td>655120000.0</td>\n",
       "    </tr>\n",
       "  </tbody>\n",
       "</table>\n",
       "<p>6 rows × 14 columns</p>\n",
       "</div>"
      ],
      "text/plain": [
       "                               count          mean           std      min  \\\n",
       "Year                           103.0  1.998417e+03  1.586000e+01   1925.0   \n",
       "Metascore                       99.0  7.753535e+01  1.197303e+01     46.0   \n",
       "...                              ...           ...           ...      ...   \n",
       "BoxOffice                      103.0  9.913201e+07  1.267996e+08  17599.0   \n",
       "AdjustedForInflationBoxOffice  103.0  1.332490e+08  1.694818e+08  52414.6   \n",
       "\n",
       "                                        1%         5%         10%         25%  \\\n",
       "Year                             1931.1400    1966.20     1985.40     2000.50   \n",
       "Metascore                          50.9000      54.80       62.00       68.00   \n",
       "...                                    ...        ...         ...         ...   \n",
       "BoxOffice                       26978.4800  146021.00   641454.60  5166076.00   \n",
       "AdjustedForInflationBoxOffice  295950.6196  539814.12  1779524.04  8749140.73   \n",
       "\n",
       "                                      50%          75%           90%  \\\n",
       "Year                               2004.0       2006.0  2.007000e+03   \n",
       "Metascore                            80.0         85.5  9.220000e+01   \n",
       "...                                   ...          ...           ...   \n",
       "BoxOffice                      44566004.0  155194037.0  3.180300e+08   \n",
       "AdjustedForInflationBoxOffice  62860656.6  190408024.0  4.118577e+08   \n",
       "\n",
       "                                        95%           99%          max  \n",
       "Year                           2.007000e+03  2.008000e+03       2008.0  \n",
       "Metascore                      9.500000e+01  9.804000e+01        100.0  \n",
       "...                                     ...           ...          ...  \n",
       "BoxOffice                      3.724401e+08  4.308407e+08  533316061.0  \n",
       "AdjustedForInflationBoxOffice  5.190607e+08  6.123510e+08  655120000.0  \n",
       "\n",
       "[6 rows x 14 columns]"
      ]
     },
     "metadata": {},
     "output_type": "display_data"
    }
   ],
   "source": [
    "# lets look at some percentiles, shall we?\n",
    "with pd.option_context('display.max_rows', 5):\n",
    "    display(movies.describe(include=[np.number], \n",
    "                 percentiles=[.01, .05, .10, .25, .5, .75, .9, .95, .99]).T)"
   ]
  },
  {
   "cell_type": "markdown",
   "metadata": {},
   "source": [
    "# Correlations"
   ]
  },
  {
   "cell_type": "markdown",
   "metadata": {},
   "source": [
    "### Lets clean the data first"
   ]
  },
  {
   "cell_type": "code",
   "execution_count": 129,
   "metadata": {},
   "outputs": [],
   "source": [
    "# I am going to focus on numerical variables - this data cleaning will make sure\n",
    "# that all variables are of the correct type and that there are no empty values\n",
    "\n",
    "movies.imdbVotes.replace(regex=True,inplace=True,to_replace=',',value='')\n",
    "movies.imdbVotes = movies.imdbVotes.astype(\"float64\")\n",
    "\n",
    "movies.AdjustedForInflationBoxOffice = movies.AdjustedForInflationBoxOffice.replace(0,np.nan)\n",
    "movies.AdjustedForInflationBoxOffice = movies.AdjustedForInflationBoxOffice.astype(\"float64\")\n",
    "\n",
    "movies.imdbRating = movies.imdbRating.replace(0,np.nan)\n",
    "movies.imdbRating = movies.imdbRating.astype(\"float64\")\n",
    "\n",
    "movies.BoxOffice = movies.BoxOffice.replace(0,np.nan)\n",
    "movies.BoxOffice = movies.BoxOffice.astype(\"float64\")\n",
    "\n",
    "movies.Metascore = movies.Metascore.replace(0,np.nan)\n",
    "movies.Metascore = movies.Metascore.astype(\"float64\")\n",
    "\n",
    "movies.Year = movies.Year.replace(0,np.nan)\n",
    "movies.Year = movies.Year.astype(\"float64\")"
   ]
  },
  {
   "cell_type": "markdown",
   "metadata": {},
   "source": [
    "### Lets look at the correlation between the year a movie is in theaters and the Box Office values"
   ]
  },
  {
   "cell_type": "code",
   "execution_count": 130,
   "metadata": {},
   "outputs": [
    {
     "data": {
      "text/plain": [
       "<matplotlib.collections.PathCollection at 0x107bfe588>"
      ]
     },
     "execution_count": 130,
     "metadata": {},
     "output_type": "execute_result"
    },
    {
     "data": {
      "image/png": "[encoded data removed]",
      "text/plain": [
       "<Figure size 432x288 with 1 Axes>"
      ]
     },
     "metadata": {},
     "output_type": "display_data"
    }
   ],
   "source": [
    "plt.scatter(x=\"Year\", y=\"BoxOffice\", data=movies)"
   ]
  },
  {
   "cell_type": "code",
   "execution_count": 131,
   "metadata": {},
   "outputs": [
    {
     "data": {
      "text/plain": [
       "0.25975908496796873"
      ]
     },
     "execution_count": 131,
     "metadata": {},
     "output_type": "execute_result"
    }
   ],
   "source": [
    "# no strong correlation between year and BoxOffice\n",
    "movies[\"Year\"].astype(\"int64\").corr(movies[\"BoxOffice\"])"
   ]
  },
  {
   "cell_type": "code",
   "execution_count": 132,
   "metadata": {},
   "outputs": [
    {
     "data": {
      "text/plain": [
       "<matplotlib.collections.PathCollection at 0x1183a93c8>"
      ]
     },
     "execution_count": 132,
     "metadata": {},
     "output_type": "execute_result"
    },
    {
     "data": {
      "image/png": "[encoded data removed]",
      "text/plain": [
       "<Figure size 432x288 with 1 Axes>"
      ]
     },
     "metadata": {},
     "output_type": "display_data"
    }
   ],
   "source": [
    "# maybe the same plot but with an Adjusted Gross\n",
    "plt.scatter(x=\"Year\", y=\"AdjustedForInflationBoxOffice\", data=movies)"
   ]
  },
  {
   "cell_type": "code",
   "execution_count": 133,
   "metadata": {},
   "outputs": [
    {
     "data": {
      "text/plain": [
       "0.221725510261061"
      ]
     },
     "execution_count": 133,
     "metadata": {},
     "output_type": "execute_result"
    }
   ],
   "source": [
    "# still no huge difference.\n",
    "movies[\"Year\"].astype(\"int64\").corr(movies[\"AdjustedForInflationBoxOffice\"])"
   ]
  },
  {
   "cell_type": "markdown",
   "metadata": {},
   "source": [
    "### What about IMDB Rating and Adjusted Gross"
   ]
  },
  {
   "cell_type": "code",
   "execution_count": 134,
   "metadata": {},
   "outputs": [
    {
     "data": {
      "text/plain": [
       "<matplotlib.collections.PathCollection at 0x118cb2ef0>"
      ]
     },
     "execution_count": 134,
     "metadata": {},
     "output_type": "execute_result"
    },
    {
     "data": {
      "image/png": "[encoded data removed]",
      "text/plain": [
       "<Figure size 432x288 with 1 Axes>"
      ]
     },
     "metadata": {},
     "output_type": "display_data"
    }
   ],
   "source": [
    "plt.scatter(x=\"imdbRating\", y=\"AdjustedForInflationBoxOffice\", data=movies)"
   ]
  },
  {
   "cell_type": "code",
   "execution_count": 135,
   "metadata": {},
   "outputs": [
    {
     "data": {
      "text/plain": [
       "0.011905000725520233"
      ]
     },
     "execution_count": 135,
     "metadata": {},
     "output_type": "execute_result"
    }
   ],
   "source": [
    "movies[\"imdbRating\"].astype(\"int64\").corr(movies[\"AdjustedForInflationBoxOffice\"])\n",
    "# The calculated value does not show that there is a huge correlation, especially that a highly rated movie does\n",
    "# not necesserily have to have a high adjusted box office values"
   ]
  },
  {
   "cell_type": "markdown",
   "metadata": {},
   "source": [
    "### What about the Metascore? Do critics ratings allign more with the adjusted box office"
   ]
  },
  {
   "cell_type": "code",
   "execution_count": 136,
   "metadata": {},
   "outputs": [
    {
     "data": {
      "text/plain": [
       "<matplotlib.collections.PathCollection at 0x11914fa58>"
      ]
     },
     "execution_count": 136,
     "metadata": {},
     "output_type": "execute_result"
    },
    {
     "data": {
      "image/png": "[encoded data removed]",
      "text/plain": [
       "<Figure size 432x288 with 1 Axes>"
      ]
     },
     "metadata": {},
     "output_type": "display_data"
    }
   ],
   "source": [
    "plt.scatter(x=\"Metascore\", y=\"AdjustedForInflationBoxOffice\", data=movies)"
   ]
  },
  {
   "cell_type": "code",
   "execution_count": 137,
   "metadata": {},
   "outputs": [
    {
     "data": {
      "text/plain": [
       "-0.08968670571275925"
      ]
     },
     "execution_count": 137,
     "metadata": {},
     "output_type": "execute_result"
    }
   ],
   "source": [
    "movies[\"AdjustedForInflationBoxOffice\"].astype(\"int64\").corr(movies[\"Metascore\"])\n",
    "# it actually looks like an inverse correlation, although a very week one."
   ]
  },
  {
   "cell_type": "markdown",
   "metadata": {},
   "source": [
    "### Lets look at the imdbRating and the Metascore"
   ]
  },
  {
   "cell_type": "code",
   "execution_count": 138,
   "metadata": {},
   "outputs": [
    {
     "data": {
      "text/plain": [
       "<matplotlib.collections.PathCollection at 0x1191c5c88>"
      ]
     },
     "execution_count": 138,
     "metadata": {},
     "output_type": "execute_result"
    },
    {
     "data": {
      "image/png": "[encoded data removed]",
      "text/plain": [
       "<Figure size 432x288 with 1 Axes>"
      ]
     },
     "metadata": {},
     "output_type": "display_data"
    }
   ],
   "source": [
    "plt.scatter(x=\"imdbRating\", y=\"Metascore\", data=movies)\n",
    "# This shows that critics and imdb users kinda of agree on ratings..."
   ]
  },
  {
   "cell_type": "code",
   "execution_count": 139,
   "metadata": {},
   "outputs": [
    {
     "data": {
      "text/plain": [
       "0.4448863898133389"
      ]
     },
     "execution_count": 139,
     "metadata": {},
     "output_type": "execute_result"
    }
   ],
   "source": [
    "# critics and imdb users kinda of agree on ratings...\n",
    "movies[\"imdbRating\"].corr(movies[\"Metascore\"])"
   ]
  },
  {
   "cell_type": "markdown",
   "metadata": {},
   "source": [
    "### Lets look at whether older movies have higher rating or not"
   ]
  },
  {
   "cell_type": "code",
   "execution_count": 140,
   "metadata": {},
   "outputs": [
    {
     "data": {
      "text/plain": [
       "<matplotlib.collections.PathCollection at 0x119336630>"
      ]
     },
     "execution_count": 140,
     "metadata": {},
     "output_type": "execute_result"
    },
    {
     "data": {
      "image/png": "[encoded data removed]",
      "text/plain": [
       "<Figure size 432x288 with 1 Axes>"
      ]
     },
     "metadata": {},
     "output_type": "display_data"
    }
   ],
   "source": [
    "plt.scatter(x=\"Year\", y=\"imdbRating\", data=movies)\n",
    "# This shows that some older movies had higher imdbRating"
   ]
  },
  {
   "cell_type": "code",
   "execution_count": 141,
   "metadata": {},
   "outputs": [
    {
     "data": {
      "text/plain": [
       "-0.18407486714339474"
      ]
     },
     "execution_count": 141,
     "metadata": {},
     "output_type": "execute_result"
    }
   ],
   "source": [
    "# we can see that the older the movie, the better the rating...\n",
    "# not a very strong correlation, but it is there\n",
    "movies[\"Year\"].astype(\"int64\").corr(movies[\"imdbRating\"])"
   ]
  },
  {
   "cell_type": "markdown",
   "metadata": {},
   "source": [
    "### What about critics? Do they appreicate older movies more?"
   ]
  },
  {
   "cell_type": "code",
   "execution_count": 142,
   "metadata": {},
   "outputs": [
    {
     "data": {
      "text/plain": [
       "<matplotlib.collections.PathCollection at 0x1192915f8>"
      ]
     },
     "execution_count": 142,
     "metadata": {},
     "output_type": "execute_result"
    },
    {
     "data": {
      "image/png": "[encoded data removed]",
      "text/plain": [
       "<Figure size 432x288 with 1 Axes>"
      ]
     },
     "metadata": {},
     "output_type": "display_data"
    }
   ],
   "source": [
    "plt.scatter(x=\"Year\", y=\"Metascore\", data=movies)"
   ]
  },
  {
   "cell_type": "code",
   "execution_count": 143,
   "metadata": {
    "scrolled": true
   },
   "outputs": [
    {
     "data": {
      "text/plain": [
       "-0.21948014777160466"
      ]
     },
     "execution_count": 143,
     "metadata": {},
     "output_type": "execute_result"
    }
   ],
   "source": [
    "# same thing, though a little bit stronger, for critics\n",
    "movies[\"Year\"].astype(\"int64\").corr(movies[\"Metascore\"])"
   ]
  },
  {
   "cell_type": "markdown",
   "metadata": {},
   "source": [
    "### Finally, is there a correlationg between imdbVotes and Adjusted Gross?"
   ]
  },
  {
   "cell_type": "code",
   "execution_count": 144,
   "metadata": {},
   "outputs": [
    {
     "data": {
      "text/plain": [
       "<matplotlib.collections.PathCollection at 0x11953f1d0>"
      ]
     },
     "execution_count": 144,
     "metadata": {},
     "output_type": "execute_result"
    },
    {
     "data": {
      "image/png": "[encoded data removed]",
      "text/plain": [
       "<Figure size 432x288 with 1 Axes>"
      ]
     },
     "metadata": {},
     "output_type": "display_data"
    }
   ],
   "source": [
    "plt.scatter(x=\"imdbVotes\", y=\"AdjustedForInflationBoxOffice\", data=movies)\n",
    "# looks like higher the Adjusted Gross, the higher the number of voters on IMDB."
   ]
  },
  {
   "cell_type": "code",
   "execution_count": 145,
   "metadata": {},
   "outputs": [
    {
     "data": {
      "text/plain": [
       "0.6282144245985208"
      ]
     },
     "execution_count": 145,
     "metadata": {},
     "output_type": "execute_result"
    }
   ],
   "source": [
    "movies[\"imdbVotes\"].astype(\"int64\").corr(movies[\"AdjustedForInflationBoxOffice\"])\n",
    "# Moderate strong correlation can be seen"
   ]
  },
  {
   "cell_type": "markdown",
   "metadata": {
    "collapsed": true
   },
   "source": [
    "# Interesting Things I Found After Finishing the Assignment\n",
    "* Metascore is the rating of critics while IMDB rating is for users on the website. \n",
    "* There is a correlation of 0.42, which is moderate, between Metascore and IMDB rating.\n",
    "* The older the movie, the higher the rating, can be seen as there is a negative correlation between Metascore/imdbRating and Year. This is stronger for critics than IMDB users. Although, this is not a very strong conclusion in general, still can be seen.\n",
    "* There is a correlation of 0.62, which is moderate/strong, between number of IMDB votes and Adjusted Gross."
   ]
  }
 ],
 "metadata": {
  "kernelspec": {
   "display_name": "Python 3",
   "language": "python",
   "name": "python3"
  },
  "language_info": {
   "codemirror_mode": {
    "name": "ipython",
    "version": 3
   },
   "file_extension": ".py",
   "mimetype": "text/x-python",
   "name": "python",
   "nbconvert_exporter": "python",
   "pygments_lexer": "ipython3",
   "version": "3.6.5"
  }
 },
 "nbformat": 4,
 "nbformat_minor": 2
}
