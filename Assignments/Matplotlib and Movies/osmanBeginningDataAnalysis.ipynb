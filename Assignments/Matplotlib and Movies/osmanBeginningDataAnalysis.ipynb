{
 "cells": [
  {
   "cell_type": "markdown",
   "metadata": {},
   "source": [
    "# Ahmad M. Osman - Dr. Lee, DS320\n"
   ]
  },
  {
   "cell_type": "markdown",
   "metadata": {},
   "source": [
    "## Assignment Instructions\n",
    "Read chapter 3 of the Pandas Cookbook and apply what you read there to this problem. You may skip the final \"Calculating a trailing stop order price\" recipe on page 111 of the textbook.\n",
    "\n",
    "Compute the top grossing movies of all time from the 500 best movies. Use the IMDB database (the API to gather information) and the CPI inflation adjustment calculator. Adjust all box office amounts into August 2018 dollars. \n",
    "\n",
    "Be careful to write the program to do this for one movie first, then expand it to the top 500 when you have figured out that you have all the right information. Build a CSV file of your results. Put this CSV file in your knuth public_html folder for yourself. \n",
    "\n",
    "You should get this to work with one movie first before you expand this to all 500 best movies of all time because you are limited to 1000 calls to the IMDB database in a month.\n",
    "\n",
    "Then, use Pandas to explore this data using what you read in Chapter 3. Please store your CSV on your web page and reference it with a fully qualified name from your Python Notebook. Upload your Python notebook here with your comments as to what you are looking at in the data set. \n",
    "\n",
    "This assignment/exam requires you to do some screen scraping and to read a JSON file. Your goal is to build a CSV file with the data from the IMDB web api in it for the top 100 movies with an \"Adjusted Box Office\" amount adjusted to August 2018 dollars. \n",
    "\n",
    "You should turn in your Python Notebook here having worked through the Chapter 3 material. You should find at least one interesting thing in the data through your data analysis. You must comment on that interesting thing in Python Notebook and show how you found it. \n",
    "\n",
    "When you turn in your notebook, make sure it directly references your data on knuth and do not share the name of your CSV file with others in the class. You must access your own CSV file in this exam question but you do not need to upload the CSV file here.\n"
   ]
  },
  {
   "cell_type": "markdown",
   "metadata": {},
   "source": [
    "# Interesting Things I Found After Finishing the Assignment\n",
    "\n",
    "\n",
    "* Christopher Nolan is the highest frequent director for the top 500 movies!\n",
    "* The Godfather is the highest rated movie with 9.2 imdbRating and a 100 for the Metascore.\n",
    "* Metascore is the rating of critics while IMDB rating is for users on the website. \n",
    "* There is a correlation of 0.42, which is moderate, between Metascore and IMDB rating.\n",
    "* The older the movie, the higher the rating, can be seen as there is a negative correlation between Metascore/imdbRating and Year. This is stronger for critics than IMDB users.\n"
   ]
  },
  {
   "cell_type": "markdown",
   "metadata": {},
   "source": [
    "# Chapter 3: Beginning Data Analysis\n",
    "\n",
    "## Recipes\n",
    "* [Developing a data analysis routine](#Developing-a-data-analysis-routine)\n",
    "* [Reducing memory by changing data types](#Reducing-memory-by-changing-data-types)\n",
    "* [Selecting the smallest of the largest](#Selecting-the-smallest-of-the-largest)\n",
    "* [Selecting the largest of each group by sorting](#Selecting-the-largest-of-each-group-by-sorting)\n",
    "* [Replicating nlargest with sort_values](#Replicating-nlargest-with-sort_values)\n",
    "* [Correlations](#Correlations)"
   ]
  },
  {
   "cell_type": "code",
   "execution_count": 2,
   "metadata": {},
   "outputs": [],
   "source": [
    "# we need these libraries\n",
    "import pandas as pd\n",
    "import numpy as np\n",
    "from IPython.display import display\n",
    "pd.options.display.max_columns = 50\n",
    "\n",
    "import matplotlib.pyplot as plt"
   ]
  },
  {
   "cell_type": "markdown",
   "metadata": {},
   "source": [
    "# Developing a data analysis routine"
   ]
  },
  {
   "cell_type": "code",
   "execution_count": 3,
   "metadata": {
    "collapsed": true
   },
   "outputs": [],
   "source": [
    "# reading the gather info from knuth\n",
    "movies = pd.read_csv('http://knuth.luther.edu/~osmaah02/osmanTop500MoviesInflationAdjusted.csv')"
   ]
  },
  {
   "cell_type": "code",
   "execution_count": 4,
   "metadata": {},
   "outputs": [
    {
     "data": {
      "text/html": [
       "<div>\n",
       "<style>\n",
       "    .dataframe thead tr:only-child th {\n",
       "        text-align: right;\n",
       "    }\n",
       "\n",
       "    .dataframe thead th {\n",
       "        text-align: left;\n",
       "    }\n",
       "\n",
       "    .dataframe tbody tr th {\n",
       "        vertical-align: top;\n",
       "    }\n",
       "</style>\n",
       "<table border=\"1\" class=\"dataframe\">\n",
       "  <thead>\n",
       "    <tr style=\"text-align: right;\">\n",
       "      <th></th>\n",
       "      <th>Unnamed: 0</th>\n",
       "      <th>Title</th>\n",
       "      <th>Genre</th>\n",
       "      <th>Actors</th>\n",
       "      <th>Director</th>\n",
       "      <th>Writer</th>\n",
       "      <th>Production</th>\n",
       "      <th>Awards</th>\n",
       "      <th>Released</th>\n",
       "      <th>Month</th>\n",
       "      <th>Year</th>\n",
       "      <th>BoxOffice</th>\n",
       "      <th>Country</th>\n",
       "      <th>Language</th>\n",
       "      <th>DVD</th>\n",
       "      <th>Metascore</th>\n",
       "      <th>Rated</th>\n",
       "      <th>Runtime</th>\n",
       "      <th>imdbID</th>\n",
       "      <th>imdbRating</th>\n",
       "      <th>imdbVotes</th>\n",
       "      <th>AdjustedForInflationBoxOffice</th>\n",
       "    </tr>\n",
       "  </thead>\n",
       "  <tbody>\n",
       "    <tr>\n",
       "      <th>0</th>\n",
       "      <td>1</td>\n",
       "      <td>Star Wars: Episode I - The Phantom Menace</td>\n",
       "      <td>Action, Adventure, Fantasy</td>\n",
       "      <td>Liam Neeson, Ewan McGregor, Natalie Portman, J...</td>\n",
       "      <td>George Lucas</td>\n",
       "      <td>George Lucas</td>\n",
       "      <td>20th Century Fox</td>\n",
       "      <td>Nominated for 3 Oscars. Another 26 wins &amp; 65 n...</td>\n",
       "      <td>19 May 1999</td>\n",
       "      <td>May</td>\n",
       "      <td>1999</td>\n",
       "      <td>431000000.0</td>\n",
       "      <td>USA</td>\n",
       "      <td>English</td>\n",
       "      <td>16 Oct 2001</td>\n",
       "      <td>51.0</td>\n",
       "      <td>PG</td>\n",
       "      <td>136 min</td>\n",
       "      <td>tt0120915</td>\n",
       "      <td>6.5</td>\n",
       "      <td>626330.0</td>\n",
       "      <td>6.538804e+08</td>\n",
       "    </tr>\n",
       "    <tr>\n",
       "      <th>1</th>\n",
       "      <td>2</td>\n",
       "      <td>The Dark Knight</td>\n",
       "      <td>Action, Crime, Drama</td>\n",
       "      <td>Christian Bale, Heath Ledger, Aaron Eckhart, M...</td>\n",
       "      <td>Christopher Nolan</td>\n",
       "      <td>Jonathan Nolan (screenplay), Christopher Nolan...</td>\n",
       "      <td>Warner Bros. Pictures/Legendary</td>\n",
       "      <td>Won 2 Oscars. Another 152 wins &amp; 155 nominations.</td>\n",
       "      <td>18 Jul 2008</td>\n",
       "      <td>Jul</td>\n",
       "      <td>2008</td>\n",
       "      <td>533316061.0</td>\n",
       "      <td>USA, UK</td>\n",
       "      <td>English, Mandarin</td>\n",
       "      <td>09 Dec 2008</td>\n",
       "      <td>82.0</td>\n",
       "      <td>PG-13</td>\n",
       "      <td>152 min</td>\n",
       "      <td>tt0468569</td>\n",
       "      <td>9.0</td>\n",
       "      <td>1958197.0</td>\n",
       "      <td>6.113433e+08</td>\n",
       "    </tr>\n",
       "    <tr>\n",
       "      <th>2</th>\n",
       "      <td>3</td>\n",
       "      <td>Spider-Man</td>\n",
       "      <td>Action, Adventure, Sci-Fi</td>\n",
       "      <td>Tobey Maguire, Willem Dafoe, Kirsten Dunst, Ja...</td>\n",
       "      <td>Sam Raimi</td>\n",
       "      <td>Stan Lee (Marvel comic book), Steve Ditko (Mar...</td>\n",
       "      <td>Columbia Pictures</td>\n",
       "      <td>Nominated for 2 Oscars. Another 16 wins &amp; 58 n...</td>\n",
       "      <td>03 May 2002</td>\n",
       "      <td>May</td>\n",
       "      <td>2002</td>\n",
       "      <td>403706375.0</td>\n",
       "      <td>USA</td>\n",
       "      <td>English</td>\n",
       "      <td>01 Nov 2002</td>\n",
       "      <td>73.0</td>\n",
       "      <td>PG-13</td>\n",
       "      <td>121 min</td>\n",
       "      <td>tt0145487</td>\n",
       "      <td>7.3</td>\n",
       "      <td>614218.0</td>\n",
       "      <td>5.661454e+08</td>\n",
       "    </tr>\n",
       "    <tr>\n",
       "      <th>3</th>\n",
       "      <td>4</td>\n",
       "      <td>Forrest Gump</td>\n",
       "      <td>Drama, Romance</td>\n",
       "      <td>Tom Hanks, Rebecca Williams, Sally Field, Mich...</td>\n",
       "      <td>Robert Zemeckis</td>\n",
       "      <td>Winston Groom (novel), Eric Roth (screenplay)</td>\n",
       "      <td>Paramount Pictures</td>\n",
       "      <td>Won 6 Oscars. Another 40 wins &amp; 67 nominations.</td>\n",
       "      <td>06 Jul 1994</td>\n",
       "      <td>Jul</td>\n",
       "      <td>1994</td>\n",
       "      <td>330000000.0</td>\n",
       "      <td>USA</td>\n",
       "      <td>English</td>\n",
       "      <td>28 Aug 2001</td>\n",
       "      <td>82.0</td>\n",
       "      <td>PG-13</td>\n",
       "      <td>142 min</td>\n",
       "      <td>tt0109830</td>\n",
       "      <td>8.8</td>\n",
       "      <td>1507796.0</td>\n",
       "      <td>5.607020e+08</td>\n",
       "    </tr>\n",
       "    <tr>\n",
       "      <th>4</th>\n",
       "      <td>5</td>\n",
       "      <td>Pirates of the Caribbean: Dead Man's Chest</td>\n",
       "      <td>Action, Adventure, Fantasy</td>\n",
       "      <td>Johnny Depp, Orlando Bloom, Keira Knightley, J...</td>\n",
       "      <td>Gore Verbinski</td>\n",
       "      <td>Ted Elliott, Terry Rossio, Ted Elliott (charac...</td>\n",
       "      <td>Buena Vista</td>\n",
       "      <td>Won 1 Oscar. Another 42 wins &amp; 53 nominations.</td>\n",
       "      <td>07 Jul 2006</td>\n",
       "      <td>Jul</td>\n",
       "      <td>2006</td>\n",
       "      <td>423032628.0</td>\n",
       "      <td>USA</td>\n",
       "      <td>English, Turkish, Greek, Mandarin, French</td>\n",
       "      <td>05 Dec 2006</td>\n",
       "      <td>53.0</td>\n",
       "      <td>PG-13</td>\n",
       "      <td>151 min</td>\n",
       "      <td>tt0383574</td>\n",
       "      <td>7.3</td>\n",
       "      <td>588897.0</td>\n",
       "      <td>5.241572e+08</td>\n",
       "    </tr>\n",
       "  </tbody>\n",
       "</table>\n",
       "</div>"
      ],
      "text/plain": [
       "   Unnamed: 0                                       Title  \\\n",
       "0           1   Star Wars: Episode I - The Phantom Menace   \n",
       "1           2                             The Dark Knight   \n",
       "2           3                                  Spider-Man   \n",
       "3           4                                Forrest Gump   \n",
       "4           5  Pirates of the Caribbean: Dead Man's Chest   \n",
       "\n",
       "                        Genre  \\\n",
       "0  Action, Adventure, Fantasy   \n",
       "1        Action, Crime, Drama   \n",
       "2   Action, Adventure, Sci-Fi   \n",
       "3              Drama, Romance   \n",
       "4  Action, Adventure, Fantasy   \n",
       "\n",
       "                                              Actors           Director  \\\n",
       "0  Liam Neeson, Ewan McGregor, Natalie Portman, J...       George Lucas   \n",
       "1  Christian Bale, Heath Ledger, Aaron Eckhart, M...  Christopher Nolan   \n",
       "2  Tobey Maguire, Willem Dafoe, Kirsten Dunst, Ja...          Sam Raimi   \n",
       "3  Tom Hanks, Rebecca Williams, Sally Field, Mich...    Robert Zemeckis   \n",
       "4  Johnny Depp, Orlando Bloom, Keira Knightley, J...     Gore Verbinski   \n",
       "\n",
       "                                              Writer  \\\n",
       "0                                       George Lucas   \n",
       "1  Jonathan Nolan (screenplay), Christopher Nolan...   \n",
       "2  Stan Lee (Marvel comic book), Steve Ditko (Mar...   \n",
       "3      Winston Groom (novel), Eric Roth (screenplay)   \n",
       "4  Ted Elliott, Terry Rossio, Ted Elliott (charac...   \n",
       "\n",
       "                        Production  \\\n",
       "0                 20th Century Fox   \n",
       "1  Warner Bros. Pictures/Legendary   \n",
       "2                Columbia Pictures   \n",
       "3               Paramount Pictures   \n",
       "4                      Buena Vista   \n",
       "\n",
       "                                              Awards     Released Month  Year  \\\n",
       "0  Nominated for 3 Oscars. Another 26 wins & 65 n...  19 May 1999   May  1999   \n",
       "1  Won 2 Oscars. Another 152 wins & 155 nominations.  18 Jul 2008   Jul  2008   \n",
       "2  Nominated for 2 Oscars. Another 16 wins & 58 n...  03 May 2002   May  2002   \n",
       "3    Won 6 Oscars. Another 40 wins & 67 nominations.  06 Jul 1994   Jul  1994   \n",
       "4     Won 1 Oscar. Another 42 wins & 53 nominations.  07 Jul 2006   Jul  2006   \n",
       "\n",
       "     BoxOffice  Country                                   Language  \\\n",
       "0  431000000.0      USA                                    English   \n",
       "1  533316061.0  USA, UK                          English, Mandarin   \n",
       "2  403706375.0      USA                                    English   \n",
       "3  330000000.0      USA                                    English   \n",
       "4  423032628.0      USA  English, Turkish, Greek, Mandarin, French   \n",
       "\n",
       "           DVD  Metascore  Rated  Runtime     imdbID  imdbRating  imdbVotes  \\\n",
       "0  16 Oct 2001       51.0     PG  136 min  tt0120915         6.5   626330.0   \n",
       "1  09 Dec 2008       82.0  PG-13  152 min  tt0468569         9.0  1958197.0   \n",
       "2  01 Nov 2002       73.0  PG-13  121 min  tt0145487         7.3   614218.0   \n",
       "3  28 Aug 2001       82.0  PG-13  142 min  tt0109830         8.8  1507796.0   \n",
       "4  05 Dec 2006       53.0  PG-13  151 min  tt0383574         7.3   588897.0   \n",
       "\n",
       "   AdjustedForInflationBoxOffice  \n",
       "0                   6.538804e+08  \n",
       "1                   6.113433e+08  \n",
       "2                   5.661454e+08  \n",
       "3                   5.607020e+08  \n",
       "4                   5.241572e+08  "
      ]
     },
     "execution_count": 4,
     "metadata": {},
     "output_type": "execute_result"
    }
   ],
   "source": [
    "# looking at the first five rows\n",
    "movies.head()"
   ]
  },
  {
   "cell_type": "code",
   "execution_count": 5,
   "metadata": {},
   "outputs": [
    {
     "data": {
      "text/plain": [
       "Index(['Unnamed: 0', 'Title', 'Genre', 'Actors', 'Director', 'Writer',\n",
       "       'Production', 'Awards', 'Released', 'Month', 'Year', 'BoxOffice',\n",
       "       'Country', 'Language', 'DVD', 'Metascore', 'Rated', 'Runtime', 'imdbID',\n",
       "       'imdbRating', 'imdbVotes', 'AdjustedForInflationBoxOffice'],\n",
       "      dtype='object')"
      ]
     },
     "execution_count": 5,
     "metadata": {},
     "output_type": "execute_result"
    }
   ],
   "source": [
    "# we do not need the first column - index\n",
    "movies.columns"
   ]
  },
  {
   "cell_type": "code",
   "execution_count": 6,
   "metadata": {
    "collapsed": true
   },
   "outputs": [],
   "source": [
    "# deleting it\n",
    "del movies[\"Unnamed: 0\"]"
   ]
  },
  {
   "cell_type": "code",
   "execution_count": 7,
   "metadata": {},
   "outputs": [
    {
     "data": {
      "text/html": [
       "<div>\n",
       "<style>\n",
       "    .dataframe thead tr:only-child th {\n",
       "        text-align: right;\n",
       "    }\n",
       "\n",
       "    .dataframe thead th {\n",
       "        text-align: left;\n",
       "    }\n",
       "\n",
       "    .dataframe tbody tr th {\n",
       "        vertical-align: top;\n",
       "    }\n",
       "</style>\n",
       "<table border=\"1\" class=\"dataframe\">\n",
       "  <thead>\n",
       "    <tr style=\"text-align: right;\">\n",
       "      <th></th>\n",
       "      <th>Title</th>\n",
       "      <th>Genre</th>\n",
       "      <th>Actors</th>\n",
       "      <th>Director</th>\n",
       "      <th>Writer</th>\n",
       "      <th>Production</th>\n",
       "      <th>Awards</th>\n",
       "      <th>Released</th>\n",
       "      <th>Month</th>\n",
       "      <th>Year</th>\n",
       "      <th>BoxOffice</th>\n",
       "      <th>Country</th>\n",
       "      <th>Language</th>\n",
       "      <th>DVD</th>\n",
       "      <th>Metascore</th>\n",
       "      <th>Rated</th>\n",
       "      <th>Runtime</th>\n",
       "      <th>imdbID</th>\n",
       "      <th>imdbRating</th>\n",
       "      <th>imdbVotes</th>\n",
       "      <th>AdjustedForInflationBoxOffice</th>\n",
       "    </tr>\n",
       "  </thead>\n",
       "  <tbody>\n",
       "    <tr>\n",
       "      <th>0</th>\n",
       "      <td>Star Wars: Episode I - The Phantom Menace</td>\n",
       "      <td>Action, Adventure, Fantasy</td>\n",
       "      <td>Liam Neeson, Ewan McGregor, Natalie Portman, J...</td>\n",
       "      <td>George Lucas</td>\n",
       "      <td>George Lucas</td>\n",
       "      <td>20th Century Fox</td>\n",
       "      <td>Nominated for 3 Oscars. Another 26 wins &amp; 65 n...</td>\n",
       "      <td>19 May 1999</td>\n",
       "      <td>May</td>\n",
       "      <td>1999</td>\n",
       "      <td>431000000.0</td>\n",
       "      <td>USA</td>\n",
       "      <td>English</td>\n",
       "      <td>16 Oct 2001</td>\n",
       "      <td>51.0</td>\n",
       "      <td>PG</td>\n",
       "      <td>136 min</td>\n",
       "      <td>tt0120915</td>\n",
       "      <td>6.5</td>\n",
       "      <td>626330.0</td>\n",
       "      <td>6.538804e+08</td>\n",
       "    </tr>\n",
       "    <tr>\n",
       "      <th>1</th>\n",
       "      <td>The Dark Knight</td>\n",
       "      <td>Action, Crime, Drama</td>\n",
       "      <td>Christian Bale, Heath Ledger, Aaron Eckhart, M...</td>\n",
       "      <td>Christopher Nolan</td>\n",
       "      <td>Jonathan Nolan (screenplay), Christopher Nolan...</td>\n",
       "      <td>Warner Bros. Pictures/Legendary</td>\n",
       "      <td>Won 2 Oscars. Another 152 wins &amp; 155 nominations.</td>\n",
       "      <td>18 Jul 2008</td>\n",
       "      <td>Jul</td>\n",
       "      <td>2008</td>\n",
       "      <td>533316061.0</td>\n",
       "      <td>USA, UK</td>\n",
       "      <td>English, Mandarin</td>\n",
       "      <td>09 Dec 2008</td>\n",
       "      <td>82.0</td>\n",
       "      <td>PG-13</td>\n",
       "      <td>152 min</td>\n",
       "      <td>tt0468569</td>\n",
       "      <td>9.0</td>\n",
       "      <td>1958197.0</td>\n",
       "      <td>6.113433e+08</td>\n",
       "    </tr>\n",
       "    <tr>\n",
       "      <th>2</th>\n",
       "      <td>Spider-Man</td>\n",
       "      <td>Action, Adventure, Sci-Fi</td>\n",
       "      <td>Tobey Maguire, Willem Dafoe, Kirsten Dunst, Ja...</td>\n",
       "      <td>Sam Raimi</td>\n",
       "      <td>Stan Lee (Marvel comic book), Steve Ditko (Mar...</td>\n",
       "      <td>Columbia Pictures</td>\n",
       "      <td>Nominated for 2 Oscars. Another 16 wins &amp; 58 n...</td>\n",
       "      <td>03 May 2002</td>\n",
       "      <td>May</td>\n",
       "      <td>2002</td>\n",
       "      <td>403706375.0</td>\n",
       "      <td>USA</td>\n",
       "      <td>English</td>\n",
       "      <td>01 Nov 2002</td>\n",
       "      <td>73.0</td>\n",
       "      <td>PG-13</td>\n",
       "      <td>121 min</td>\n",
       "      <td>tt0145487</td>\n",
       "      <td>7.3</td>\n",
       "      <td>614218.0</td>\n",
       "      <td>5.661454e+08</td>\n",
       "    </tr>\n",
       "    <tr>\n",
       "      <th>3</th>\n",
       "      <td>Forrest Gump</td>\n",
       "      <td>Drama, Romance</td>\n",
       "      <td>Tom Hanks, Rebecca Williams, Sally Field, Mich...</td>\n",
       "      <td>Robert Zemeckis</td>\n",
       "      <td>Winston Groom (novel), Eric Roth (screenplay)</td>\n",
       "      <td>Paramount Pictures</td>\n",
       "      <td>Won 6 Oscars. Another 40 wins &amp; 67 nominations.</td>\n",
       "      <td>06 Jul 1994</td>\n",
       "      <td>Jul</td>\n",
       "      <td>1994</td>\n",
       "      <td>330000000.0</td>\n",
       "      <td>USA</td>\n",
       "      <td>English</td>\n",
       "      <td>28 Aug 2001</td>\n",
       "      <td>82.0</td>\n",
       "      <td>PG-13</td>\n",
       "      <td>142 min</td>\n",
       "      <td>tt0109830</td>\n",
       "      <td>8.8</td>\n",
       "      <td>1507796.0</td>\n",
       "      <td>5.607020e+08</td>\n",
       "    </tr>\n",
       "    <tr>\n",
       "      <th>4</th>\n",
       "      <td>Pirates of the Caribbean: Dead Man's Chest</td>\n",
       "      <td>Action, Adventure, Fantasy</td>\n",
       "      <td>Johnny Depp, Orlando Bloom, Keira Knightley, J...</td>\n",
       "      <td>Gore Verbinski</td>\n",
       "      <td>Ted Elliott, Terry Rossio, Ted Elliott (charac...</td>\n",
       "      <td>Buena Vista</td>\n",
       "      <td>Won 1 Oscar. Another 42 wins &amp; 53 nominations.</td>\n",
       "      <td>07 Jul 2006</td>\n",
       "      <td>Jul</td>\n",
       "      <td>2006</td>\n",
       "      <td>423032628.0</td>\n",
       "      <td>USA</td>\n",
       "      <td>English, Turkish, Greek, Mandarin, French</td>\n",
       "      <td>05 Dec 2006</td>\n",
       "      <td>53.0</td>\n",
       "      <td>PG-13</td>\n",
       "      <td>151 min</td>\n",
       "      <td>tt0383574</td>\n",
       "      <td>7.3</td>\n",
       "      <td>588897.0</td>\n",
       "      <td>5.241572e+08</td>\n",
       "    </tr>\n",
       "  </tbody>\n",
       "</table>\n",
       "</div>"
      ],
      "text/plain": [
       "                                        Title                       Genre  \\\n",
       "0   Star Wars: Episode I - The Phantom Menace  Action, Adventure, Fantasy   \n",
       "1                             The Dark Knight        Action, Crime, Drama   \n",
       "2                                  Spider-Man   Action, Adventure, Sci-Fi   \n",
       "3                                Forrest Gump              Drama, Romance   \n",
       "4  Pirates of the Caribbean: Dead Man's Chest  Action, Adventure, Fantasy   \n",
       "\n",
       "                                              Actors           Director  \\\n",
       "0  Liam Neeson, Ewan McGregor, Natalie Portman, J...       George Lucas   \n",
       "1  Christian Bale, Heath Ledger, Aaron Eckhart, M...  Christopher Nolan   \n",
       "2  Tobey Maguire, Willem Dafoe, Kirsten Dunst, Ja...          Sam Raimi   \n",
       "3  Tom Hanks, Rebecca Williams, Sally Field, Mich...    Robert Zemeckis   \n",
       "4  Johnny Depp, Orlando Bloom, Keira Knightley, J...     Gore Verbinski   \n",
       "\n",
       "                                              Writer  \\\n",
       "0                                       George Lucas   \n",
       "1  Jonathan Nolan (screenplay), Christopher Nolan...   \n",
       "2  Stan Lee (Marvel comic book), Steve Ditko (Mar...   \n",
       "3      Winston Groom (novel), Eric Roth (screenplay)   \n",
       "4  Ted Elliott, Terry Rossio, Ted Elliott (charac...   \n",
       "\n",
       "                        Production  \\\n",
       "0                 20th Century Fox   \n",
       "1  Warner Bros. Pictures/Legendary   \n",
       "2                Columbia Pictures   \n",
       "3               Paramount Pictures   \n",
       "4                      Buena Vista   \n",
       "\n",
       "                                              Awards     Released Month  Year  \\\n",
       "0  Nominated for 3 Oscars. Another 26 wins & 65 n...  19 May 1999   May  1999   \n",
       "1  Won 2 Oscars. Another 152 wins & 155 nominations.  18 Jul 2008   Jul  2008   \n",
       "2  Nominated for 2 Oscars. Another 16 wins & 58 n...  03 May 2002   May  2002   \n",
       "3    Won 6 Oscars. Another 40 wins & 67 nominations.  06 Jul 1994   Jul  1994   \n",
       "4     Won 1 Oscar. Another 42 wins & 53 nominations.  07 Jul 2006   Jul  2006   \n",
       "\n",
       "     BoxOffice  Country                                   Language  \\\n",
       "0  431000000.0      USA                                    English   \n",
       "1  533316061.0  USA, UK                          English, Mandarin   \n",
       "2  403706375.0      USA                                    English   \n",
       "3  330000000.0      USA                                    English   \n",
       "4  423032628.0      USA  English, Turkish, Greek, Mandarin, French   \n",
       "\n",
       "           DVD  Metascore  Rated  Runtime     imdbID  imdbRating  imdbVotes  \\\n",
       "0  16 Oct 2001       51.0     PG  136 min  tt0120915         6.5   626330.0   \n",
       "1  09 Dec 2008       82.0  PG-13  152 min  tt0468569         9.0  1958197.0   \n",
       "2  01 Nov 2002       73.0  PG-13  121 min  tt0145487         7.3   614218.0   \n",
       "3  28 Aug 2001       82.0  PG-13  142 min  tt0109830         8.8  1507796.0   \n",
       "4  05 Dec 2006       53.0  PG-13  151 min  tt0383574         7.3   588897.0   \n",
       "\n",
       "   AdjustedForInflationBoxOffice  \n",
       "0                   6.538804e+08  \n",
       "1                   6.113433e+08  \n",
       "2                   5.661454e+08  \n",
       "3                   5.607020e+08  \n",
       "4                   5.241572e+08  "
      ]
     },
     "execution_count": 7,
     "metadata": {},
     "output_type": "execute_result"
    }
   ],
   "source": [
    "movies.head()"
   ]
  },
  {
   "cell_type": "code",
   "execution_count": 8,
   "metadata": {},
   "outputs": [
    {
     "data": {
      "text/plain": [
       "(501, 21)"
      ]
     },
     "execution_count": 8,
     "metadata": {},
     "output_type": "execute_result"
    }
   ],
   "source": [
    "# so we have 501 rows of 21 columns\n",
    "movies.shape"
   ]
  },
  {
   "cell_type": "code",
   "execution_count": 32,
   "metadata": {},
   "outputs": [
    {
     "data": {
      "text/plain": [
       "<matplotlib.collections.PathCollection at 0x119e65898>"
      ]
     },
     "execution_count": 32,
     "metadata": {},
     "output_type": "execute_result"
    }
   ],
   "source": [
    "plt.scatter(\"Year\", \"AdjustedForInflationBoxOffice\", data=movies)"
   ]
  },
  {
   "cell_type": "code",
   "execution_count": 33,
   "metadata": {},
   "outputs": [
    {
     "data": {
      "image/png": "[encoded data removed]",
      "text/plain": [
       "<matplotlib.figure.Figure at 0x1195269b0>"
      ]
     },
     "metadata": {},
     "output_type": "display_data"
    }
   ],
   "source": [
    "plt.show()"
   ]
  },
  {
   "cell_type": "code",
   "execution_count": 34,
   "metadata": {},
   "outputs": [
    {
     "data": {
      "text/plain": [
       "0    True\n",
       "1    True\n",
       "2    True\n",
       "3    True\n",
       "4    True\n",
       "Name: AdjustedForInflationBoxOffice, dtype: bool"
      ]
     },
     "execution_count": 34,
     "metadata": {},
     "output_type": "execute_result"
    }
   ],
   "source": [
    "criteria1 = movies.AdjustedForInflationBoxOffice > 0\n",
    "criteria1.head()"
   ]
  },
  {
   "cell_type": "code",
   "execution_count": 35,
   "metadata": {},
   "outputs": [
    {
     "data": {
      "text/plain": [
       "103"
      ]
     },
     "execution_count": 35,
     "metadata": {},
     "output_type": "execute_result"
    }
   ],
   "source": [
    "boMovies = movies[criteria1]\n",
    "len(boMovies)"
   ]
  },
  {
   "cell_type": "code",
   "execution_count": 36,
   "metadata": {},
   "outputs": [
    {
     "data": {
      "text/plain": [
       "<matplotlib.collections.PathCollection at 0x119f90c50>"
      ]
     },
     "execution_count": 36,
     "metadata": {},
     "output_type": "execute_result"
    }
   ],
   "source": [
    "plt.scatter(\"Year\", \"AdjustedForInflationBoxOffice\", data=boMovies)"
   ]
  },
  {
   "cell_type": "code",
   "execution_count": 37,
   "metadata": {},
   "outputs": [
    {
     "data": {
      "image/png": "[encoded data removed]",
      "text/plain": [
       "<matplotlib.figure.Figure at 0x119f268d0>"
      ]
     },
     "metadata": {},
     "output_type": "display_data"
    }
   ],
   "source": [
    "plt.show()"
   ]
  },
  {
   "cell_type": "code",
   "execution_count": 9,
   "metadata": {},
   "outputs": [
    {
     "data": {
      "text/html": [
       "<div>\n",
       "<style>\n",
       "    .dataframe thead tr:only-child th {\n",
       "        text-align: right;\n",
       "    }\n",
       "\n",
       "    .dataframe thead th {\n",
       "        text-align: left;\n",
       "    }\n",
       "\n",
       "    .dataframe tbody tr th {\n",
       "        vertical-align: top;\n",
       "    }\n",
       "</style>\n",
       "<table border=\"1\" class=\"dataframe\">\n",
       "  <thead>\n",
       "    <tr style=\"text-align: right;\">\n",
       "      <th></th>\n",
       "      <th>count</th>\n",
       "      <th>mean</th>\n",
       "      <th>std</th>\n",
       "      <th>min</th>\n",
       "      <th>25%</th>\n",
       "      <th>50%</th>\n",
       "      <th>75%</th>\n",
       "      <th>max</th>\n",
       "    </tr>\n",
       "  </thead>\n",
       "  <tbody>\n",
       "    <tr>\n",
       "      <th>BoxOffice</th>\n",
       "      <td>103.0</td>\n",
       "      <td>9.915027e+07</td>\n",
       "      <td>1.267858e+08</td>\n",
       "      <td>17599.000000</td>\n",
       "      <td>5.537905e+06</td>\n",
       "      <td>4.456600e+07</td>\n",
       "      <td>1.551940e+08</td>\n",
       "      <td>5.333161e+08</td>\n",
       "    </tr>\n",
       "    <tr>\n",
       "      <th>Metascore</th>\n",
       "      <td>375.0</td>\n",
       "      <td>7.908000e+01</td>\n",
       "      <td>1.237749e+01</td>\n",
       "      <td>41.000000</td>\n",
       "      <td>7.000000e+01</td>\n",
       "      <td>8.000000e+01</td>\n",
       "      <td>8.850000e+01</td>\n",
       "      <td>1.000000e+02</td>\n",
       "    </tr>\n",
       "    <tr>\n",
       "      <th>imdbRating</th>\n",
       "      <td>501.0</td>\n",
       "      <td>7.872056e+00</td>\n",
       "      <td>4.874603e-01</td>\n",
       "      <td>5.700000</td>\n",
       "      <td>7.600000e+00</td>\n",
       "      <td>7.900000e+00</td>\n",
       "      <td>8.200000e+00</td>\n",
       "      <td>9.300000e+00</td>\n",
       "    </tr>\n",
       "    <tr>\n",
       "      <th>imdbVotes</th>\n",
       "      <td>500.0</td>\n",
       "      <td>2.687982e+05</td>\n",
       "      <td>3.229552e+05</td>\n",
       "      <td>1839.000000</td>\n",
       "      <td>3.939950e+04</td>\n",
       "      <td>1.519180e+05</td>\n",
       "      <td>3.701252e+05</td>\n",
       "      <td>1.991481e+06</td>\n",
       "    </tr>\n",
       "    <tr>\n",
       "      <th>AdjustedForInflationBoxOffice</th>\n",
       "      <td>103.0</td>\n",
       "      <td>1.333292e+08</td>\n",
       "      <td>1.694578e+08</td>\n",
       "      <td>52503.304194</td>\n",
       "      <td>9.334383e+06</td>\n",
       "      <td>6.293204e+07</td>\n",
       "      <td>1.905554e+08</td>\n",
       "      <td>6.538804e+08</td>\n",
       "    </tr>\n",
       "  </tbody>\n",
       "</table>\n",
       "</div>"
      ],
      "text/plain": [
       "                               count          mean           std  \\\n",
       "BoxOffice                      103.0  9.915027e+07  1.267858e+08   \n",
       "Metascore                      375.0  7.908000e+01  1.237749e+01   \n",
       "imdbRating                     501.0  7.872056e+00  4.874603e-01   \n",
       "imdbVotes                      500.0  2.687982e+05  3.229552e+05   \n",
       "AdjustedForInflationBoxOffice  103.0  1.333292e+08  1.694578e+08   \n",
       "\n",
       "                                        min           25%           50%  \\\n",
       "BoxOffice                      17599.000000  5.537905e+06  4.456600e+07   \n",
       "Metascore                         41.000000  7.000000e+01  8.000000e+01   \n",
       "imdbRating                         5.700000  7.600000e+00  7.900000e+00   \n",
       "imdbVotes                       1839.000000  3.939950e+04  1.519180e+05   \n",
       "AdjustedForInflationBoxOffice  52503.304194  9.334383e+06  6.293204e+07   \n",
       "\n",
       "                                        75%           max  \n",
       "BoxOffice                      1.551940e+08  5.333161e+08  \n",
       "Metascore                      8.850000e+01  1.000000e+02  \n",
       "imdbRating                     8.200000e+00  9.300000e+00  \n",
       "imdbVotes                      3.701252e+05  1.991481e+06  \n",
       "AdjustedForInflationBoxOffice  1.905554e+08  6.538804e+08  "
      ]
     },
     "metadata": {},
     "output_type": "display_data"
    }
   ],
   "source": [
    "# lets look at data description, numerical value variables only\n",
    "with pd.option_context('display.max_rows', 8):\n",
    "    display(movies.describe(include=[np.number]).T)"
   ]
  },
  {
   "cell_type": "code",
   "execution_count": 10,
   "metadata": {},
   "outputs": [
    {
     "data": {
      "text/html": [
       "<div>\n",
       "<style>\n",
       "    .dataframe thead tr:only-child th {\n",
       "        text-align: right;\n",
       "    }\n",
       "\n",
       "    .dataframe thead th {\n",
       "        text-align: left;\n",
       "    }\n",
       "\n",
       "    .dataframe tbody tr th {\n",
       "        vertical-align: top;\n",
       "    }\n",
       "</style>\n",
       "<table border=\"1\" class=\"dataframe\">\n",
       "  <thead>\n",
       "    <tr style=\"text-align: right;\">\n",
       "      <th></th>\n",
       "      <th>count</th>\n",
       "      <th>unique</th>\n",
       "      <th>top</th>\n",
       "      <th>freq</th>\n",
       "    </tr>\n",
       "  </thead>\n",
       "  <tbody>\n",
       "    <tr>\n",
       "      <th>Title</th>\n",
       "      <td>501</td>\n",
       "      <td>499</td>\n",
       "      <td>Beauty and the Beast</td>\n",
       "      <td>2</td>\n",
       "    </tr>\n",
       "    <tr>\n",
       "      <th>Genre</th>\n",
       "      <td>501</td>\n",
       "      <td>160</td>\n",
       "      <td>Drama</td>\n",
       "      <td>38</td>\n",
       "    </tr>\n",
       "    <tr>\n",
       "      <th>Actors</th>\n",
       "      <td>500</td>\n",
       "      <td>499</td>\n",
       "      <td>Mark Hamill, Harrison Ford, Carrie Fisher, Bil...</td>\n",
       "      <td>2</td>\n",
       "    </tr>\n",
       "    <tr>\n",
       "      <th>Director</th>\n",
       "      <td>500</td>\n",
       "      <td>299</td>\n",
       "      <td>Steven Spielberg</td>\n",
       "      <td>11</td>\n",
       "    </tr>\n",
       "    <tr>\n",
       "      <th>Writer</th>\n",
       "      <td>498</td>\n",
       "      <td>473</td>\n",
       "      <td>Woody Allen</td>\n",
       "      <td>4</td>\n",
       "    </tr>\n",
       "    <tr>\n",
       "      <th>Production</th>\n",
       "      <td>491</td>\n",
       "      <td>145</td>\n",
       "      <td>Paramount Pictures</td>\n",
       "      <td>45</td>\n",
       "    </tr>\n",
       "    <tr>\n",
       "      <th>Awards</th>\n",
       "      <td>484</td>\n",
       "      <td>416</td>\n",
       "      <td>1 win.</td>\n",
       "      <td>10</td>\n",
       "    </tr>\n",
       "    <tr>\n",
       "      <th>Released</th>\n",
       "      <td>500</td>\n",
       "      <td>484</td>\n",
       "      <td>30 Sep 2005</td>\n",
       "      <td>2</td>\n",
       "    </tr>\n",
       "    <tr>\n",
       "      <th>Month</th>\n",
       "      <td>500</td>\n",
       "      <td>12</td>\n",
       "      <td>Jun</td>\n",
       "      <td>62</td>\n",
       "    </tr>\n",
       "    <tr>\n",
       "      <th>Year</th>\n",
       "      <td>501</td>\n",
       "      <td>82</td>\n",
       "      <td>2004</td>\n",
       "      <td>18</td>\n",
       "    </tr>\n",
       "    <tr>\n",
       "      <th>Country</th>\n",
       "      <td>501</td>\n",
       "      <td>86</td>\n",
       "      <td>USA</td>\n",
       "      <td>284</td>\n",
       "    </tr>\n",
       "    <tr>\n",
       "      <th>Language</th>\n",
       "      <td>500</td>\n",
       "      <td>154</td>\n",
       "      <td>English</td>\n",
       "      <td>212</td>\n",
       "    </tr>\n",
       "    <tr>\n",
       "      <th>DVD</th>\n",
       "      <td>490</td>\n",
       "      <td>329</td>\n",
       "      <td>27 Aug 1997</td>\n",
       "      <td>6</td>\n",
       "    </tr>\n",
       "    <tr>\n",
       "      <th>Rated</th>\n",
       "      <td>493</td>\n",
       "      <td>12</td>\n",
       "      <td>R</td>\n",
       "      <td>210</td>\n",
       "    </tr>\n",
       "    <tr>\n",
       "      <th>Runtime</th>\n",
       "      <td>501</td>\n",
       "      <td>126</td>\n",
       "      <td>110 min</td>\n",
       "      <td>19</td>\n",
       "    </tr>\n",
       "    <tr>\n",
       "      <th>imdbID</th>\n",
       "      <td>501</td>\n",
       "      <td>501</td>\n",
       "      <td>tt0093409</td>\n",
       "      <td>1</td>\n",
       "    </tr>\n",
       "  </tbody>\n",
       "</table>\n",
       "</div>"
      ],
      "text/plain": [
       "           count unique                                                top  \\\n",
       "Title        501    499                               Beauty and the Beast   \n",
       "Genre        501    160                                              Drama   \n",
       "Actors       500    499  Mark Hamill, Harrison Ford, Carrie Fisher, Bil...   \n",
       "Director     500    299                                   Steven Spielberg   \n",
       "Writer       498    473                                        Woody Allen   \n",
       "Production   491    145                                 Paramount Pictures   \n",
       "Awards       484    416                                             1 win.   \n",
       "Released     500    484                                        30 Sep 2005   \n",
       "Month        500     12                                                Jun   \n",
       "Year         501     82                                               2004   \n",
       "Country      501     86                                                USA   \n",
       "Language     500    154                                            English   \n",
       "DVD          490    329                                        27 Aug 1997   \n",
       "Rated        493     12                                                  R   \n",
       "Runtime      501    126                                            110 min   \n",
       "imdbID       501    501                                          tt0093409   \n",
       "\n",
       "           freq  \n",
       "Title         2  \n",
       "Genre        38  \n",
       "Actors        2  \n",
       "Director     11  \n",
       "Writer        4  \n",
       "Production   45  \n",
       "Awards       10  \n",
       "Released      2  \n",
       "Month        62  \n",
       "Year         18  \n",
       "Country     284  \n",
       "Language    212  \n",
       "DVD           6  \n",
       "Rated       210  \n",
       "Runtime      19  \n",
       "imdbID        1  "
      ]
     },
     "execution_count": 10,
     "metadata": {},
     "output_type": "execute_result"
    }
   ],
   "source": [
    "# now lets do the same for categorical variables\n",
    "movies.describe(include=[np.object, pd.Categorical]).T\n",
    "# looks like we have two beauty and the beast movies?"
   ]
  },
  {
   "cell_type": "code",
   "execution_count": 11,
   "metadata": {},
   "outputs": [
    {
     "data": {
      "text/plain": [
       "False    499\n",
       "True       2\n",
       "Name: Title, dtype: int64"
      ]
     },
     "execution_count": 11,
     "metadata": {},
     "output_type": "execute_result"
    }
   ],
   "source": [
    "(movies[\"Title\"] == \"Beauty and the Beast\").value_counts()"
   ]
  },
  {
   "cell_type": "code",
   "execution_count": 12,
   "metadata": {},
   "outputs": [
    {
     "name": "stdout",
     "output_type": "stream",
     "text": [
      "<class 'pandas.core.frame.DataFrame'>\n",
      "RangeIndex: 501 entries, 0 to 500\n",
      "Data columns (total 21 columns):\n",
      "Title                            501 non-null object\n",
      "Genre                            501 non-null object\n",
      "Actors                           500 non-null object\n",
      "Director                         500 non-null object\n",
      "Writer                           498 non-null object\n",
      "Production                       491 non-null object\n",
      "Awards                           484 non-null object\n",
      "Released                         500 non-null object\n",
      "Month                            500 non-null object\n",
      "Year                             501 non-null object\n",
      "BoxOffice                        103 non-null float64\n",
      "Country                          501 non-null object\n",
      "Language                         500 non-null object\n",
      "DVD                              490 non-null object\n",
      "Metascore                        375 non-null float64\n",
      "Rated                            493 non-null object\n",
      "Runtime                          501 non-null object\n",
      "imdbID                           501 non-null object\n",
      "imdbRating                       501 non-null float64\n",
      "imdbVotes                        500 non-null float64\n",
      "AdjustedForInflationBoxOffice    103 non-null float64\n",
      "dtypes: float64(5), object(16)\n",
      "memory usage: 82.3+ KB\n"
     ]
    }
   ],
   "source": [
    "# lets get some info about this DataFrame - \n",
    "# This tells us how many non-null objects for each column\n",
    "movies.info()"
   ]
  },
  {
   "cell_type": "code",
   "execution_count": 13,
   "metadata": {},
   "outputs": [
    {
     "data": {
      "text/plain": [
       "Title                              0\n",
       "Genre                              0\n",
       "Actors                             1\n",
       "Director                           1\n",
       "Writer                             3\n",
       "Production                        10\n",
       "Awards                            17\n",
       "Released                           1\n",
       "Month                              1\n",
       "Year                               0\n",
       "BoxOffice                        398\n",
       "Country                            0\n",
       "Language                           1\n",
       "DVD                               11\n",
       "Metascore                        126\n",
       "Rated                              8\n",
       "Runtime                            0\n",
       "imdbID                             0\n",
       "imdbRating                         0\n",
       "imdbVotes                          1\n",
       "AdjustedForInflationBoxOffice    398\n",
       "dtype: int64"
      ]
     },
     "execution_count": 13,
     "metadata": {},
     "output_type": "execute_result"
    }
   ],
   "source": [
    "# lets count the nulls?\n",
    "movies.isnull().sum()\n"
   ]
  },
  {
   "cell_type": "code",
   "execution_count": 14,
   "metadata": {
    "collapsed": true
   },
   "outputs": [],
   "source": [
    "# looks like we have a lot of them - lets drop the ones that \n",
    "# do not have box office values\n",
    "movies = movies.dropna(subset=[\"BoxOffice\"])"
   ]
  },
  {
   "cell_type": "code",
   "execution_count": 15,
   "metadata": {},
   "outputs": [
    {
     "data": {
      "text/plain": [
       "Title                            103\n",
       "Genre                            103\n",
       "Actors                           103\n",
       "Director                         103\n",
       "Writer                           103\n",
       "Production                       103\n",
       "Awards                           103\n",
       "Released                         103\n",
       "Month                            103\n",
       "Year                             103\n",
       "BoxOffice                        103\n",
       "Country                          103\n",
       "Language                         103\n",
       "DVD                              103\n",
       "Metascore                         99\n",
       "Rated                            103\n",
       "Runtime                          103\n",
       "imdbID                           103\n",
       "imdbRating                       103\n",
       "imdbVotes                        103\n",
       "AdjustedForInflationBoxOffice    103\n",
       "dtype: int64"
      ]
     },
     "execution_count": 15,
     "metadata": {},
     "output_type": "execute_result"
    }
   ],
   "source": [
    "# and we are left with?\n",
    "movies.count()"
   ]
  },
  {
   "cell_type": "code",
   "execution_count": 16,
   "metadata": {},
   "outputs": [
    {
     "data": {
      "text/html": [
       "<div>\n",
       "<style>\n",
       "    .dataframe thead tr:only-child th {\n",
       "        text-align: right;\n",
       "    }\n",
       "\n",
       "    .dataframe thead th {\n",
       "        text-align: left;\n",
       "    }\n",
       "\n",
       "    .dataframe tbody tr th {\n",
       "        vertical-align: top;\n",
       "    }\n",
       "</style>\n",
       "<table border=\"1\" class=\"dataframe\">\n",
       "  <thead>\n",
       "    <tr style=\"text-align: right;\">\n",
       "      <th></th>\n",
       "      <th>count</th>\n",
       "      <th>mean</th>\n",
       "      <th>std</th>\n",
       "      <th>min</th>\n",
       "      <th>25%</th>\n",
       "      <th>50%</th>\n",
       "      <th>75%</th>\n",
       "      <th>max</th>\n",
       "    </tr>\n",
       "  </thead>\n",
       "  <tbody>\n",
       "    <tr>\n",
       "      <th>BoxOffice</th>\n",
       "      <td>103.0</td>\n",
       "      <td>9.915027e+07</td>\n",
       "      <td>1.267858e+08</td>\n",
       "      <td>17599.000000</td>\n",
       "      <td>5.537905e+06</td>\n",
       "      <td>4.456600e+07</td>\n",
       "      <td>1.551940e+08</td>\n",
       "      <td>5.333161e+08</td>\n",
       "    </tr>\n",
       "    <tr>\n",
       "      <th>Metascore</th>\n",
       "      <td>99.0</td>\n",
       "      <td>7.751515e+01</td>\n",
       "      <td>1.196369e+01</td>\n",
       "      <td>46.000000</td>\n",
       "      <td>6.800000e+01</td>\n",
       "      <td>8.000000e+01</td>\n",
       "      <td>8.550000e+01</td>\n",
       "      <td>1.000000e+02</td>\n",
       "    </tr>\n",
       "    <tr>\n",
       "      <th>imdbRating</th>\n",
       "      <td>103.0</td>\n",
       "      <td>7.828155e+00</td>\n",
       "      <td>5.645435e-01</td>\n",
       "      <td>6.100000</td>\n",
       "      <td>7.500000e+00</td>\n",
       "      <td>7.900000e+00</td>\n",
       "      <td>8.200000e+00</td>\n",
       "      <td>9.000000e+00</td>\n",
       "    </tr>\n",
       "    <tr>\n",
       "      <th>imdbVotes</th>\n",
       "      <td>103.0</td>\n",
       "      <td>4.662771e+05</td>\n",
       "      <td>3.655323e+05</td>\n",
       "      <td>6831.000000</td>\n",
       "      <td>2.144675e+05</td>\n",
       "      <td>3.913230e+05</td>\n",
       "      <td>6.294355e+05</td>\n",
       "      <td>1.958197e+06</td>\n",
       "    </tr>\n",
       "    <tr>\n",
       "      <th>AdjustedForInflationBoxOffice</th>\n",
       "      <td>103.0</td>\n",
       "      <td>1.333292e+08</td>\n",
       "      <td>1.694578e+08</td>\n",
       "      <td>52503.304194</td>\n",
       "      <td>9.334383e+06</td>\n",
       "      <td>6.293204e+07</td>\n",
       "      <td>1.905554e+08</td>\n",
       "      <td>6.538804e+08</td>\n",
       "    </tr>\n",
       "  </tbody>\n",
       "</table>\n",
       "</div>"
      ],
      "text/plain": [
       "                               count          mean           std  \\\n",
       "BoxOffice                      103.0  9.915027e+07  1.267858e+08   \n",
       "Metascore                       99.0  7.751515e+01  1.196369e+01   \n",
       "imdbRating                     103.0  7.828155e+00  5.645435e-01   \n",
       "imdbVotes                      103.0  4.662771e+05  3.655323e+05   \n",
       "AdjustedForInflationBoxOffice  103.0  1.333292e+08  1.694578e+08   \n",
       "\n",
       "                                        min           25%           50%  \\\n",
       "BoxOffice                      17599.000000  5.537905e+06  4.456600e+07   \n",
       "Metascore                         46.000000  6.800000e+01  8.000000e+01   \n",
       "imdbRating                         6.100000  7.500000e+00  7.900000e+00   \n",
       "imdbVotes                       6831.000000  2.144675e+05  3.913230e+05   \n",
       "AdjustedForInflationBoxOffice  52503.304194  9.334383e+06  6.293204e+07   \n",
       "\n",
       "                                        75%           max  \n",
       "BoxOffice                      1.551940e+08  5.333161e+08  \n",
       "Metascore                      8.550000e+01  1.000000e+02  \n",
       "imdbRating                     8.200000e+00  9.000000e+00  \n",
       "imdbVotes                      6.294355e+05  1.958197e+06  \n",
       "AdjustedForInflationBoxOffice  1.905554e+08  6.538804e+08  "
      ]
     },
     "execution_count": 16,
     "metadata": {},
     "output_type": "execute_result"
    }
   ],
   "source": [
    "# one more statistical description on numerical columns\n",
    "movies.describe(include=[np.number]).T"
   ]
  },
  {
   "cell_type": "code",
   "execution_count": 17,
   "metadata": {},
   "outputs": [
    {
     "data": {
      "text/html": [
       "<div>\n",
       "<style>\n",
       "    .dataframe thead tr:only-child th {\n",
       "        text-align: right;\n",
       "    }\n",
       "\n",
       "    .dataframe thead th {\n",
       "        text-align: left;\n",
       "    }\n",
       "\n",
       "    .dataframe tbody tr th {\n",
       "        vertical-align: top;\n",
       "    }\n",
       "</style>\n",
       "<table border=\"1\" class=\"dataframe\">\n",
       "  <thead>\n",
       "    <tr style=\"text-align: right;\">\n",
       "      <th></th>\n",
       "      <th>count</th>\n",
       "      <th>unique</th>\n",
       "      <th>top</th>\n",
       "      <th>freq</th>\n",
       "    </tr>\n",
       "  </thead>\n",
       "  <tbody>\n",
       "    <tr>\n",
       "      <th>Title</th>\n",
       "      <td>103</td>\n",
       "      <td>103</td>\n",
       "      <td>Battleship Potemkin</td>\n",
       "      <td>1</td>\n",
       "    </tr>\n",
       "    <tr>\n",
       "      <th>Genre</th>\n",
       "      <td>103</td>\n",
       "      <td>60</td>\n",
       "      <td>Drama</td>\n",
       "      <td>6</td>\n",
       "    </tr>\n",
       "    <tr>\n",
       "      <th>Actors</th>\n",
       "      <td>103</td>\n",
       "      <td>103</td>\n",
       "      <td>Emile Hirsch, Marcia Gay Harden, William Hurt,...</td>\n",
       "      <td>1</td>\n",
       "    </tr>\n",
       "    <tr>\n",
       "      <th>Director</th>\n",
       "      <td>103</td>\n",
       "      <td>86</td>\n",
       "      <td>Peter Jackson</td>\n",
       "      <td>4</td>\n",
       "    </tr>\n",
       "    <tr>\n",
       "      <th>Writer</th>\n",
       "      <td>103</td>\n",
       "      <td>102</td>\n",
       "      <td>J.R.R. Tolkien (novel), Fran Walsh (screenplay...</td>\n",
       "      <td>2</td>\n",
       "    </tr>\n",
       "    <tr>\n",
       "      <th>Production</th>\n",
       "      <td>103</td>\n",
       "      <td>49</td>\n",
       "      <td>Warner Bros. Pictures</td>\n",
       "      <td>11</td>\n",
       "    </tr>\n",
       "    <tr>\n",
       "      <th>Awards</th>\n",
       "      <td>103</td>\n",
       "      <td>102</td>\n",
       "      <td>2 wins &amp; 9 nominations.</td>\n",
       "      <td>2</td>\n",
       "    </tr>\n",
       "    <tr>\n",
       "      <th>Released</th>\n",
       "      <td>103</td>\n",
       "      <td>99</td>\n",
       "      <td>30 Sep 2005</td>\n",
       "      <td>2</td>\n",
       "    </tr>\n",
       "    <tr>\n",
       "      <th>Month</th>\n",
       "      <td>103</td>\n",
       "      <td>12</td>\n",
       "      <td>Jun</td>\n",
       "      <td>15</td>\n",
       "    </tr>\n",
       "    <tr>\n",
       "      <th>Year</th>\n",
       "      <td>103</td>\n",
       "      <td>26</td>\n",
       "      <td>2004</td>\n",
       "      <td>15</td>\n",
       "    </tr>\n",
       "    <tr>\n",
       "      <th>Country</th>\n",
       "      <td>103</td>\n",
       "      <td>40</td>\n",
       "      <td>USA</td>\n",
       "      <td>45</td>\n",
       "    </tr>\n",
       "    <tr>\n",
       "      <th>Language</th>\n",
       "      <td>103</td>\n",
       "      <td>47</td>\n",
       "      <td>English</td>\n",
       "      <td>34</td>\n",
       "    </tr>\n",
       "    <tr>\n",
       "      <th>DVD</th>\n",
       "      <td>103</td>\n",
       "      <td>96</td>\n",
       "      <td>23 Aug 2005</td>\n",
       "      <td>2</td>\n",
       "    </tr>\n",
       "    <tr>\n",
       "      <th>Rated</th>\n",
       "      <td>103</td>\n",
       "      <td>6</td>\n",
       "      <td>R</td>\n",
       "      <td>47</td>\n",
       "    </tr>\n",
       "    <tr>\n",
       "      <th>Runtime</th>\n",
       "      <td>103</td>\n",
       "      <td>64</td>\n",
       "      <td>102 min</td>\n",
       "      <td>5</td>\n",
       "    </tr>\n",
       "    <tr>\n",
       "      <th>imdbID</th>\n",
       "      <td>103</td>\n",
       "      <td>103</td>\n",
       "      <td>tt0393109</td>\n",
       "      <td>1</td>\n",
       "    </tr>\n",
       "  </tbody>\n",
       "</table>\n",
       "</div>"
      ],
      "text/plain": [
       "           count unique                                                top  \\\n",
       "Title        103    103                                Battleship Potemkin   \n",
       "Genre        103     60                                              Drama   \n",
       "Actors       103    103  Emile Hirsch, Marcia Gay Harden, William Hurt,...   \n",
       "Director     103     86                                      Peter Jackson   \n",
       "Writer       103    102  J.R.R. Tolkien (novel), Fran Walsh (screenplay...   \n",
       "Production   103     49                              Warner Bros. Pictures   \n",
       "Awards       103    102                            2 wins & 9 nominations.   \n",
       "Released     103     99                                        30 Sep 2005   \n",
       "Month        103     12                                                Jun   \n",
       "Year         103     26                                               2004   \n",
       "Country      103     40                                                USA   \n",
       "Language     103     47                                            English   \n",
       "DVD          103     96                                        23 Aug 2005   \n",
       "Rated        103      6                                                  R   \n",
       "Runtime      103     64                                            102 min   \n",
       "imdbID       103    103                                          tt0393109   \n",
       "\n",
       "           freq  \n",
       "Title         1  \n",
       "Genre         6  \n",
       "Actors        1  \n",
       "Director      4  \n",
       "Writer        2  \n",
       "Production   11  \n",
       "Awards        2  \n",
       "Released      2  \n",
       "Month        15  \n",
       "Year         15  \n",
       "Country      45  \n",
       "Language     34  \n",
       "DVD           2  \n",
       "Rated        47  \n",
       "Runtime       5  \n",
       "imdbID        1  "
      ]
     },
     "execution_count": 17,
     "metadata": {},
     "output_type": "execute_result"
    }
   ],
   "source": [
    "# one more statistical description on categorical columns\n",
    "movies.describe(include=[np.object, pd.Categorical]).T\n",
    "# I am so happy seeing Christopher Nolan as the highest frequent\n",
    "# director!"
   ]
  },
  {
   "cell_type": "markdown",
   "metadata": {},
   "source": [
    "## There's more..."
   ]
  },
  {
   "cell_type": "code",
   "execution_count": 18,
   "metadata": {},
   "outputs": [
    {
     "data": {
      "text/html": [
       "<div>\n",
       "<style>\n",
       "    .dataframe thead tr:only-child th {\n",
       "        text-align: right;\n",
       "    }\n",
       "\n",
       "    .dataframe thead th {\n",
       "        text-align: left;\n",
       "    }\n",
       "\n",
       "    .dataframe tbody tr th {\n",
       "        vertical-align: top;\n",
       "    }\n",
       "</style>\n",
       "<table border=\"1\" class=\"dataframe\">\n",
       "  <thead>\n",
       "    <tr style=\"text-align: right;\">\n",
       "      <th></th>\n",
       "      <th>count</th>\n",
       "      <th>mean</th>\n",
       "      <th>std</th>\n",
       "      <th>min</th>\n",
       "      <th>1%</th>\n",
       "      <th>5%</th>\n",
       "      <th>10%</th>\n",
       "      <th>25%</th>\n",
       "      <th>50%</th>\n",
       "      <th>75%</th>\n",
       "      <th>90%</th>\n",
       "      <th>95%</th>\n",
       "      <th>99%</th>\n",
       "      <th>max</th>\n",
       "    </tr>\n",
       "  </thead>\n",
       "  <tbody>\n",
       "    <tr>\n",
       "      <th>BoxOffice</th>\n",
       "      <td>103.0</td>\n",
       "      <td>9.915027e+07</td>\n",
       "      <td>1.267858e+08</td>\n",
       "      <td>17599.000000</td>\n",
       "      <td>26978.480000</td>\n",
       "      <td>146021.000000</td>\n",
       "      <td>6.460080e+05</td>\n",
       "      <td>5.537905e+06</td>\n",
       "      <td>4.456600e+07</td>\n",
       "      <td>1.551940e+08</td>\n",
       "      <td>3.180300e+08</td>\n",
       "      <td>3.724401e+08</td>\n",
       "      <td>4.308407e+08</td>\n",
       "      <td>5.333161e+08</td>\n",
       "    </tr>\n",
       "    <tr>\n",
       "      <th>Metascore</th>\n",
       "      <td>99.0</td>\n",
       "      <td>7.751515e+01</td>\n",
       "      <td>1.196369e+01</td>\n",
       "      <td>46.000000</td>\n",
       "      <td>50.900000</td>\n",
       "      <td>54.800000</td>\n",
       "      <td>6.200000e+01</td>\n",
       "      <td>6.800000e+01</td>\n",
       "      <td>8.000000e+01</td>\n",
       "      <td>8.550000e+01</td>\n",
       "      <td>9.220000e+01</td>\n",
       "      <td>9.500000e+01</td>\n",
       "      <td>9.804000e+01</td>\n",
       "      <td>1.000000e+02</td>\n",
       "    </tr>\n",
       "    <tr>\n",
       "      <th>imdbRating</th>\n",
       "      <td>103.0</td>\n",
       "      <td>7.828155e+00</td>\n",
       "      <td>5.645435e-01</td>\n",
       "      <td>6.100000</td>\n",
       "      <td>6.204000</td>\n",
       "      <td>6.910000</td>\n",
       "      <td>7.200000e+00</td>\n",
       "      <td>7.500000e+00</td>\n",
       "      <td>7.900000e+00</td>\n",
       "      <td>8.200000e+00</td>\n",
       "      <td>8.500000e+00</td>\n",
       "      <td>8.690000e+00</td>\n",
       "      <td>8.898000e+00</td>\n",
       "      <td>9.000000e+00</td>\n",
       "    </tr>\n",
       "    <tr>\n",
       "      <th>imdbVotes</th>\n",
       "      <td>103.0</td>\n",
       "      <td>4.662771e+05</td>\n",
       "      <td>3.655323e+05</td>\n",
       "      <td>6831.000000</td>\n",
       "      <td>9508.900000</td>\n",
       "      <td>29618.300000</td>\n",
       "      <td>6.159920e+04</td>\n",
       "      <td>2.144675e+05</td>\n",
       "      <td>3.913230e+05</td>\n",
       "      <td>6.294355e+05</td>\n",
       "      <td>9.286596e+05</td>\n",
       "      <td>1.129007e+06</td>\n",
       "      <td>1.506249e+06</td>\n",
       "      <td>1.958197e+06</td>\n",
       "    </tr>\n",
       "    <tr>\n",
       "      <th>AdjustedForInflationBoxOffice</th>\n",
       "      <td>103.0</td>\n",
       "      <td>1.333292e+08</td>\n",
       "      <td>1.694578e+08</td>\n",
       "      <td>52503.304194</td>\n",
       "      <td>297638.803932</td>\n",
       "      <td>575925.574444</td>\n",
       "      <td>1.817937e+06</td>\n",
       "      <td>9.334383e+06</td>\n",
       "      <td>6.293204e+07</td>\n",
       "      <td>1.905554e+08</td>\n",
       "      <td>4.121593e+08</td>\n",
       "      <td>5.203942e+08</td>\n",
       "      <td>6.104393e+08</td>\n",
       "      <td>6.538804e+08</td>\n",
       "    </tr>\n",
       "  </tbody>\n",
       "</table>\n",
       "</div>"
      ],
      "text/plain": [
       "                               count          mean           std  \\\n",
       "BoxOffice                      103.0  9.915027e+07  1.267858e+08   \n",
       "Metascore                       99.0  7.751515e+01  1.196369e+01   \n",
       "imdbRating                     103.0  7.828155e+00  5.645435e-01   \n",
       "imdbVotes                      103.0  4.662771e+05  3.655323e+05   \n",
       "AdjustedForInflationBoxOffice  103.0  1.333292e+08  1.694578e+08   \n",
       "\n",
       "                                        min             1%             5%  \\\n",
       "BoxOffice                      17599.000000   26978.480000  146021.000000   \n",
       "Metascore                         46.000000      50.900000      54.800000   \n",
       "imdbRating                         6.100000       6.204000       6.910000   \n",
       "imdbVotes                       6831.000000    9508.900000   29618.300000   \n",
       "AdjustedForInflationBoxOffice  52503.304194  297638.803932  575925.574444   \n",
       "\n",
       "                                        10%           25%           50%  \\\n",
       "BoxOffice                      6.460080e+05  5.537905e+06  4.456600e+07   \n",
       "Metascore                      6.200000e+01  6.800000e+01  8.000000e+01   \n",
       "imdbRating                     7.200000e+00  7.500000e+00  7.900000e+00   \n",
       "imdbVotes                      6.159920e+04  2.144675e+05  3.913230e+05   \n",
       "AdjustedForInflationBoxOffice  1.817937e+06  9.334383e+06  6.293204e+07   \n",
       "\n",
       "                                        75%           90%           95%  \\\n",
       "BoxOffice                      1.551940e+08  3.180300e+08  3.724401e+08   \n",
       "Metascore                      8.550000e+01  9.220000e+01  9.500000e+01   \n",
       "imdbRating                     8.200000e+00  8.500000e+00  8.690000e+00   \n",
       "imdbVotes                      6.294355e+05  9.286596e+05  1.129007e+06   \n",
       "AdjustedForInflationBoxOffice  1.905554e+08  4.121593e+08  5.203942e+08   \n",
       "\n",
       "                                        99%           max  \n",
       "BoxOffice                      4.308407e+08  5.333161e+08  \n",
       "Metascore                      9.804000e+01  1.000000e+02  \n",
       "imdbRating                     8.898000e+00  9.000000e+00  \n",
       "imdbVotes                      1.506249e+06  1.958197e+06  \n",
       "AdjustedForInflationBoxOffice  6.104393e+08  6.538804e+08  "
      ]
     },
     "metadata": {},
     "output_type": "display_data"
    }
   ],
   "source": [
    "# lets look at some percentiles, shall we?\n",
    "with pd.option_context('display.max_rows', 5):\n",
    "    display(movies.describe(include=[np.number], \n",
    "                 percentiles=[.01, .05, .10, .25, .5, .75, .9, .95, .99]).T)"
   ]
  },
  {
   "cell_type": "markdown",
   "metadata": {},
   "source": [
    "# Reducing memory by changing data types"
   ]
  },
  {
   "cell_type": "code",
   "execution_count": 19,
   "metadata": {},
   "outputs": [
    {
     "data": {
      "text/plain": [
       "Index(['Title', 'Genre', 'Actors', 'Director', 'Writer', 'Production',\n",
       "       'Awards', 'Released', 'Month', 'Year', 'BoxOffice', 'Country',\n",
       "       'Language', 'DVD', 'Metascore', 'Rated', 'Runtime', 'imdbID',\n",
       "       'imdbRating', 'imdbVotes', 'AdjustedForInflationBoxOffice'],\n",
       "      dtype='object')"
      ]
     },
     "execution_count": 19,
     "metadata": {},
     "output_type": "execute_result"
    }
   ],
   "source": [
    "movies.columns"
   ]
  },
  {
   "cell_type": "code",
   "execution_count": 20,
   "metadata": {},
   "outputs": [
    {
     "data": {
      "text/html": [
       "<div>\n",
       "<style>\n",
       "    .dataframe thead tr:only-child th {\n",
       "        text-align: right;\n",
       "    }\n",
       "\n",
       "    .dataframe thead th {\n",
       "        text-align: left;\n",
       "    }\n",
       "\n",
       "    .dataframe tbody tr th {\n",
       "        vertical-align: top;\n",
       "    }\n",
       "</style>\n",
       "<table border=\"1\" class=\"dataframe\">\n",
       "  <thead>\n",
       "    <tr style=\"text-align: right;\">\n",
       "      <th></th>\n",
       "      <th>Title</th>\n",
       "      <th>Actors</th>\n",
       "      <th>Writer</th>\n",
       "      <th>Awards</th>\n",
       "      <th>BoxOffice</th>\n",
       "      <th>AdjustedForInflationBoxOffice</th>\n",
       "      <th>Rated</th>\n",
       "    </tr>\n",
       "  </thead>\n",
       "  <tbody>\n",
       "    <tr>\n",
       "      <th>0</th>\n",
       "      <td>Star Wars: Episode I - The Phantom Menace</td>\n",
       "      <td>Liam Neeson, Ewan McGregor, Natalie Portman, J...</td>\n",
       "      <td>George Lucas</td>\n",
       "      <td>Nominated for 3 Oscars. Another 26 wins &amp; 65 n...</td>\n",
       "      <td>431000000.0</td>\n",
       "      <td>6.538804e+08</td>\n",
       "      <td>PG</td>\n",
       "    </tr>\n",
       "    <tr>\n",
       "      <th>1</th>\n",
       "      <td>The Dark Knight</td>\n",
       "      <td>Christian Bale, Heath Ledger, Aaron Eckhart, M...</td>\n",
       "      <td>Jonathan Nolan (screenplay), Christopher Nolan...</td>\n",
       "      <td>Won 2 Oscars. Another 152 wins &amp; 155 nominations.</td>\n",
       "      <td>533316061.0</td>\n",
       "      <td>6.113433e+08</td>\n",
       "      <td>PG-13</td>\n",
       "    </tr>\n",
       "    <tr>\n",
       "      <th>2</th>\n",
       "      <td>Spider-Man</td>\n",
       "      <td>Tobey Maguire, Willem Dafoe, Kirsten Dunst, Ja...</td>\n",
       "      <td>Stan Lee (Marvel comic book), Steve Ditko (Mar...</td>\n",
       "      <td>Nominated for 2 Oscars. Another 16 wins &amp; 58 n...</td>\n",
       "      <td>403706375.0</td>\n",
       "      <td>5.661454e+08</td>\n",
       "      <td>PG-13</td>\n",
       "    </tr>\n",
       "    <tr>\n",
       "      <th>3</th>\n",
       "      <td>Forrest Gump</td>\n",
       "      <td>Tom Hanks, Rebecca Williams, Sally Field, Mich...</td>\n",
       "      <td>Winston Groom (novel), Eric Roth (screenplay)</td>\n",
       "      <td>Won 6 Oscars. Another 40 wins &amp; 67 nominations.</td>\n",
       "      <td>330000000.0</td>\n",
       "      <td>5.607020e+08</td>\n",
       "      <td>PG-13</td>\n",
       "    </tr>\n",
       "    <tr>\n",
       "      <th>4</th>\n",
       "      <td>Pirates of the Caribbean: Dead Man's Chest</td>\n",
       "      <td>Johnny Depp, Orlando Bloom, Keira Knightley, J...</td>\n",
       "      <td>Ted Elliott, Terry Rossio, Ted Elliott (charac...</td>\n",
       "      <td>Won 1 Oscar. Another 42 wins &amp; 53 nominations.</td>\n",
       "      <td>423032628.0</td>\n",
       "      <td>5.241572e+08</td>\n",
       "      <td>PG-13</td>\n",
       "    </tr>\n",
       "  </tbody>\n",
       "</table>\n",
       "</div>"
      ],
      "text/plain": [
       "                                        Title  \\\n",
       "0   Star Wars: Episode I - The Phantom Menace   \n",
       "1                             The Dark Knight   \n",
       "2                                  Spider-Man   \n",
       "3                                Forrest Gump   \n",
       "4  Pirates of the Caribbean: Dead Man's Chest   \n",
       "\n",
       "                                              Actors  \\\n",
       "0  Liam Neeson, Ewan McGregor, Natalie Portman, J...   \n",
       "1  Christian Bale, Heath Ledger, Aaron Eckhart, M...   \n",
       "2  Tobey Maguire, Willem Dafoe, Kirsten Dunst, Ja...   \n",
       "3  Tom Hanks, Rebecca Williams, Sally Field, Mich...   \n",
       "4  Johnny Depp, Orlando Bloom, Keira Knightley, J...   \n",
       "\n",
       "                                              Writer  \\\n",
       "0                                       George Lucas   \n",
       "1  Jonathan Nolan (screenplay), Christopher Nolan...   \n",
       "2  Stan Lee (Marvel comic book), Steve Ditko (Mar...   \n",
       "3      Winston Groom (novel), Eric Roth (screenplay)   \n",
       "4  Ted Elliott, Terry Rossio, Ted Elliott (charac...   \n",
       "\n",
       "                                              Awards    BoxOffice  \\\n",
       "0  Nominated for 3 Oscars. Another 26 wins & 65 n...  431000000.0   \n",
       "1  Won 2 Oscars. Another 152 wins & 155 nominations.  533316061.0   \n",
       "2  Nominated for 2 Oscars. Another 16 wins & 58 n...  403706375.0   \n",
       "3    Won 6 Oscars. Another 40 wins & 67 nominations.  330000000.0   \n",
       "4     Won 1 Oscar. Another 42 wins & 53 nominations.  423032628.0   \n",
       "\n",
       "   AdjustedForInflationBoxOffice  Rated  \n",
       "0                   6.538804e+08     PG  \n",
       "1                   6.113433e+08  PG-13  \n",
       "2                   5.661454e+08  PG-13  \n",
       "3                   5.607020e+08  PG-13  \n",
       "4                   5.241572e+08  PG-13  "
      ]
     },
     "execution_count": 20,
     "metadata": {},
     "output_type": "execute_result"
    }
   ],
   "source": [
    "# lets look at some of the columns and how can we reduce the memory usage\n",
    "different_cols = ['Title', 'Actors', 'Writer', 'Awards', 'BoxOffice', \"AdjustedForInflationBoxOffice\", \"Rated\"]\n",
    "col2 = movies.loc[:, different_cols]\n",
    "col2.head()"
   ]
  },
  {
   "cell_type": "code",
   "execution_count": 21,
   "metadata": {
    "scrolled": true
   },
   "outputs": [
    {
     "data": {
      "text/plain": [
       "Title                             object\n",
       "Actors                            object\n",
       "Writer                            object\n",
       "Awards                            object\n",
       "BoxOffice                        float64\n",
       "AdjustedForInflationBoxOffice    float64\n",
       "Rated                             object\n",
       "dtype: object"
      ]
     },
     "execution_count": 21,
     "metadata": {},
     "output_type": "execute_result"
    }
   ],
   "source": [
    "col2.dtypes"
   ]
  },
  {
   "cell_type": "code",
   "execution_count": 22,
   "metadata": {},
   "outputs": [
    {
     "data": {
      "text/plain": [
       "Index                              824\n",
       "Title                             7675\n",
       "Actors                           12113\n",
       "Writer                           14797\n",
       "Awards                           10294\n",
       "BoxOffice                          824\n",
       "AdjustedForInflationBoxOffice      824\n",
       "Rated                             6601\n",
       "dtype: int64"
      ]
     },
     "execution_count": 22,
     "metadata": {},
     "output_type": "execute_result"
    }
   ],
   "source": [
    "#Find the memory usage of each column with the memory_usage method:\n",
    "original_mem = col2.memory_usage(deep=True)\n",
    "original_mem"
   ]
  },
  {
   "cell_type": "code",
   "execution_count": 23,
   "metadata": {
    "collapsed": true
   },
   "outputs": [],
   "source": [
    "# I do not see any reaon to change the data types - will skip this."
   ]
  },
  {
   "cell_type": "code",
   "execution_count": 24,
   "metadata": {},
   "outputs": [
    {
     "data": {
      "text/plain": [
       "Title     103\n",
       "Actors    103\n",
       "Writer    102\n",
       "Awards    102\n",
       "Rated       6\n",
       "dtype: int64"
      ]
     },
     "execution_count": 24,
     "metadata": {},
     "output_type": "execute_result"
    }
   ],
   "source": [
    "# We have a lot of unique values - excepted for the Rated column\n",
    "col2.select_dtypes(include=['object']).nunique()"
   ]
  },
  {
   "cell_type": "code",
   "execution_count": 25,
   "metadata": {},
   "outputs": [
    {
     "data": {
      "text/plain": [
       "Title                              object\n",
       "Actors                             object\n",
       "Writer                             object\n",
       "Awards                             object\n",
       "BoxOffice                         float64\n",
       "AdjustedForInflationBoxOffice     float64\n",
       "Rated                            category\n",
       "dtype: object"
      ]
     },
     "execution_count": 25,
     "metadata": {},
     "output_type": "execute_result"
    }
   ],
   "source": [
    "# we can convert the Rated column into a categorical data type\n",
    "# to save memory space\n",
    "col2['Rated'] = col2['Rated'].astype('category')\n",
    "col2.dtypes"
   ]
  },
  {
   "cell_type": "code",
   "execution_count": 26,
   "metadata": {},
   "outputs": [
    {
     "data": {
      "text/plain": [
       "Index                              824\n",
       "Title                             7690\n",
       "Actors                           12666\n",
       "Writer                           15157\n",
       "Awards                           10294\n",
       "BoxOffice                          824\n",
       "AdjustedForInflationBoxOffice      824\n",
       "Rated                              647\n",
       "dtype: int64"
      ]
     },
     "execution_count": 26,
     "metadata": {},
     "output_type": "execute_result"
    }
   ],
   "source": [
    "# Let compute the memory again\n",
    "# We will see a difference in the rated column\n",
    "new_mem = col2.memory_usage(deep=True)\n",
    "new_mem"
   ]
  },
  {
   "cell_type": "code",
   "execution_count": 27,
   "metadata": {},
   "outputs": [
    {
     "data": {
      "text/plain": [
       "Index                            1.000000\n",
       "Title                            1.001954\n",
       "Actors                           1.045653\n",
       "Writer                           1.024329\n",
       "Awards                           1.000000\n",
       "BoxOffice                        1.000000\n",
       "AdjustedForInflationBoxOffice    1.000000\n",
       "Rated                            0.098015\n",
       "dtype: float64"
      ]
     },
     "execution_count": 27,
     "metadata": {},
     "output_type": "execute_result"
    }
   ],
   "source": [
    "# percentage of memory saved for each type\n",
    "new_mem / original_mem\n",
    "# we can see we saved 90% of memory that was used by Rated"
   ]
  },
  {
   "cell_type": "markdown",
   "metadata": {},
   "source": [
    "## There's more..."
   ]
  },
  {
   "cell_type": "code",
   "execution_count": 28,
   "metadata": {},
   "outputs": [
    {
     "data": {
      "text/plain": [
       "Index(['Title', 'Genre', 'Actors', 'Director', 'Writer', 'Production',\n",
       "       'Awards', 'Released', 'Month', 'Year', 'BoxOffice', 'Country',\n",
       "       'Language', 'DVD', 'Metascore', 'Rated', 'Runtime', 'imdbID',\n",
       "       'imdbRating', 'imdbVotes', 'AdjustedForInflationBoxOffice'],\n",
       "      dtype='object')"
      ]
     },
     "execution_count": 28,
     "metadata": {},
     "output_type": "execute_result"
    }
   ],
   "source": [
    "movies.columns"
   ]
  },
  {
   "cell_type": "code",
   "execution_count": 29,
   "metadata": {},
   "outputs": [
    {
     "data": {
      "text/plain": [
       "Index        824\n",
       "Language    7513\n",
       "Country     6792\n",
       "dtype: int64"
      ]
     },
     "execution_count": 29,
     "metadata": {},
     "output_type": "execute_result"
    }
   ],
   "source": [
    "movies[['Language', 'Country']].memory_usage(deep=True)"
   ]
  },
  {
   "cell_type": "code",
   "execution_count": 30,
   "metadata": {},
   "outputs": [
    {
     "ename": "NameError",
     "evalue": "name 'college' is not defined",
     "output_type": "error",
     "traceback": [
      "\u001b[0;31m---------------------------------------------------------------------------\u001b[0m",
      "\u001b[0;31mNameError\u001b[0m                                 Traceback (most recent call last)",
      "\u001b[0;32m<ipython-input-30-fb193a2fb8bd>\u001b[0m in \u001b[0;36m<module>\u001b[0;34m()\u001b[0m\n\u001b[1;32m      2\u001b[0m \u001b[0;31m# changing a single value would lead to the change of the memory usage\u001b[0m\u001b[0;34m\u001b[0m\u001b[0;34m\u001b[0m\u001b[0m\n\u001b[1;32m      3\u001b[0m \u001b[0mmovies\u001b[0m\u001b[0;34m.\u001b[0m\u001b[0mloc\u001b[0m\u001b[0;34m[\u001b[0m\u001b[0;36m0\u001b[0m\u001b[0;34m,\u001b[0m \u001b[0;34m'Language'\u001b[0m\u001b[0;34m]\u001b[0m \u001b[0;34m=\u001b[0m \u001b[0;36m10000000\u001b[0m\u001b[0;34m\u001b[0m\u001b[0m\n\u001b[0;32m----> 4\u001b[0;31m \u001b[0mmovies\u001b[0m\u001b[0;34m.\u001b[0m\u001b[0mloc\u001b[0m\u001b[0;34m[\u001b[0m\u001b[0;36m0\u001b[0m\u001b[0;34m,\u001b[0m \u001b[0;34m'Country'\u001b[0m\u001b[0;34m]\u001b[0m \u001b[0;34m=\u001b[0m \u001b[0mcollege\u001b[0m\u001b[0;34m.\u001b[0m\u001b[0mloc\u001b[0m\u001b[0;34m[\u001b[0m\u001b[0;36m0\u001b[0m\u001b[0;34m,\u001b[0m \u001b[0;34m'Country'\u001b[0m\u001b[0;34m]\u001b[0m \u001b[0;34m+\u001b[0m \u001b[0;34m'a'\u001b[0m\u001b[0;34m\u001b[0m\u001b[0m\n\u001b[0m\u001b[1;32m      5\u001b[0m \u001b[0;31m# college.loc[1, 'INSTNM'] = college.loc[1, 'INSTNM'] + 'a'\u001b[0m\u001b[0;34m\u001b[0m\u001b[0;34m\u001b[0m\u001b[0m\n\u001b[1;32m      6\u001b[0m \u001b[0mcollege\u001b[0m\u001b[0;34m[\u001b[0m\u001b[0;34m[\u001b[0m\u001b[0;34m'Language'\u001b[0m\u001b[0;34m,\u001b[0m \u001b[0;34m'Country'\u001b[0m\u001b[0;34m]\u001b[0m\u001b[0;34m]\u001b[0m\u001b[0;34m.\u001b[0m\u001b[0mmemory_usage\u001b[0m\u001b[0;34m(\u001b[0m\u001b[0mdeep\u001b[0m\u001b[0;34m=\u001b[0m\u001b[0;32mTrue\u001b[0m\u001b[0;34m)\u001b[0m\u001b[0;34m\u001b[0m\u001b[0m\n",
      "\u001b[0;31mNameError\u001b[0m: name 'college' is not defined"
     ]
    }
   ],
   "source": [
    "# more into memory\n",
    "# changing a single value would lead to the change of the memory usage\n",
    "movies.loc[0, 'Language'] = 10000000\n",
    "movies.loc[0, 'Country'] = college.loc[0, 'Country'] + 'a'\n",
    "# college.loc[1, 'INSTNM'] = college.loc[1, 'INSTNM'] + 'a'\n",
    "college[['Language', 'Country']].memory_usage(deep=True)"
   ]
  },
  {
   "cell_type": "code",
   "execution_count": null,
   "metadata": {},
   "outputs": [],
   "source": [
    "college['Language'].dtype"
   ]
  },
  {
   "cell_type": "code",
   "execution_count": null,
   "metadata": {},
   "outputs": [],
   "source": [
    "college['Language'].astype('int8') # ValueError"
   ]
  },
  {
   "cell_type": "code",
   "execution_count": null,
   "metadata": {},
   "outputs": [],
   "source": [
    "# more statistical, numerical, descriptions\n",
    "movies.describe(include=['int64', 'float64']).T"
   ]
  },
  {
   "cell_type": "code",
   "execution_count": null,
   "metadata": {},
   "outputs": [],
   "source": [
    "movies.describe(include=[np.int64, np.float64]).T"
   ]
  },
  {
   "cell_type": "code",
   "execution_count": null,
   "metadata": {},
   "outputs": [],
   "source": [
    "# another error - value conversion error\n",
    "movies['Rated'] = college['RELAFFIL'].astype(np.int8)"
   ]
  },
  {
   "cell_type": "code",
   "execution_count": null,
   "metadata": {},
   "outputs": [],
   "source": [
    "movies.describe(include=['int', 'float']).T  # defaults to 64 bit int/floats"
   ]
  },
  {
   "cell_type": "code",
   "execution_count": null,
   "metadata": {},
   "outputs": [],
   "source": [
    "movies.describe(include=['number']).T  # also works as the default int/float are 64 bits"
   ]
  },
  {
   "cell_type": "code",
   "execution_count": null,
   "metadata": {},
   "outputs": [],
   "source": [
    "# memory usage\n",
    "movies.index = pd.Int64Index(movies.index)\n",
    "movies.index.memory_usage()"
   ]
  },
  {
   "cell_type": "markdown",
   "metadata": {},
   "source": [
    "# Selecting the smallest of the largest"
   ]
  },
  {
   "cell_type": "code",
   "execution_count": null,
   "metadata": {},
   "outputs": [],
   "source": [
    "movies.columns"
   ]
  },
  {
   "cell_type": "code",
   "execution_count": null,
   "metadata": {},
   "outputs": [],
   "source": [
    "# lets look at the least successful movies\n",
    "movies2 = movies[['Title', 'AdjustedForInflationBoxOffice', 'imdbRating', 'Metascore']]\n",
    "movies2.head()"
   ]
  },
  {
   "cell_type": "code",
   "execution_count": null,
   "metadata": {},
   "outputs": [],
   "source": [
    "# selecting the top 20 movies by imdbRating\n",
    "movies2.nlargest(20, 'imdbRating').head()"
   ]
  },
  {
   "cell_type": "code",
   "execution_count": null,
   "metadata": {},
   "outputs": [],
   "source": [
    "# now lets get the top 20 by imdbRating that are of the smallest 5 of\n",
    "# AdjustedForInflationBoxOffice\n",
    "movies2.nlargest(20, 'imdbRating').nsmallest(5, 'AdjustedForInflationBoxOffice')"
   ]
  },
  {
   "cell_type": "markdown",
   "metadata": {},
   "source": [
    "# Selecting the largest of each group by sorting"
   ]
  },
  {
   "cell_type": "code",
   "execution_count": null,
   "metadata": {},
   "outputs": [],
   "source": [
    "movies2 = movies[['Title', 'Year', 'AdjustedForInflationBoxOffice', 'imdbRating', 'Metascore']]\n",
    "movies2.head()"
   ]
  },
  {
   "cell_type": "code",
   "execution_count": null,
   "metadata": {},
   "outputs": [],
   "source": [
    "# lets sort by year\n",
    "movies2.sort_values('Year', ascending=False).head()"
   ]
  },
  {
   "cell_type": "code",
   "execution_count": null,
   "metadata": {},
   "outputs": [],
   "source": [
    "# sorting by year and imdbRating would be different though...\n",
    "movies3 = movies2.sort_values(['Year','imdbRating'], ascending=False)\n",
    "movies3.head()"
   ]
  },
  {
   "cell_type": "code",
   "execution_count": null,
   "metadata": {},
   "outputs": [],
   "source": [
    "movie_top_year = movies3.drop_duplicates(subset='Year')\n",
    "movie_top_year.head()"
   ]
  },
  {
   "cell_type": "code",
   "execution_count": null,
   "metadata": {},
   "outputs": [],
   "source": [
    "# multiple sort values\n",
    "movies4 = movies[['Title', 'Year', 'Rated', 'AdjustedForInflationBoxOffice']]\n",
    "movies4_sorted = movies4.sort_values(['Title', 'Year', 'Rated', 'AdjustedForInflationBoxOffice'], \n",
    "                                   ascending=[False, False, True, True])\n",
    "movies4_sorted.drop_duplicates(subset=['Title', 'Year', 'Rated', 'AdjustedForInflationBoxOffice']).head(10)"
   ]
  },
  {
   "cell_type": "markdown",
   "metadata": {},
   "source": [
    "# Replicating nlargest with sort_values"
   ]
  },
  {
   "cell_type": "code",
   "execution_count": null,
   "metadata": {},
   "outputs": [],
   "source": [
    "# more into that\n",
    "movies2 = movies[['Title', 'imdbRating', 'AdjustedForInflationBoxOffice']]\n",
    "movies_smallest_largest = movies2.nlargest(100, 'imdbRating').nsmallest(5, 'AdjustedForInflationBoxOffice')\n",
    "movies_smallest_largest"
   ]
  },
  {
   "cell_type": "code",
   "execution_count": null,
   "metadata": {},
   "outputs": [],
   "source": [
    "movies2.sort_values('imdbRating', ascending=False).head(100).head()"
   ]
  },
  {
   "cell_type": "code",
   "execution_count": null,
   "metadata": {},
   "outputs": [],
   "source": [
    "movies2.sort_values('imdbRating', ascending=False).head(100).sort_values('AdjustedForInflationBoxOffice').head()"
   ]
  },
  {
   "cell_type": "code",
   "execution_count": null,
   "metadata": {},
   "outputs": [],
   "source": [
    "movies2.nlargest(100, 'imdbRating').tail()"
   ]
  },
  {
   "cell_type": "code",
   "execution_count": null,
   "metadata": {},
   "outputs": [],
   "source": [
    "movies2.sort_values('imdbRating', ascending=False).head(100).tail()"
   ]
  },
  {
   "cell_type": "markdown",
   "metadata": {},
   "source": [
    "# Correlations"
   ]
  },
  {
   "cell_type": "code",
   "execution_count": null,
   "metadata": {},
   "outputs": [],
   "source": [
    "movies.columns"
   ]
  },
  {
   "cell_type": "code",
   "execution_count": null,
   "metadata": {},
   "outputs": [],
   "source": [
    "# no strong correlation between year and BoxOffice\n",
    "movies[\"Year\"].astype(\"int64\").corr(movies[\"BoxOffice\"])"
   ]
  },
  {
   "cell_type": "code",
   "execution_count": null,
   "metadata": {},
   "outputs": [],
   "source": [
    "# critics and imdb users kinda of agree on ratings...\n",
    "movies[\"imdbRating\"].corr(movies[\"Metascore\"])"
   ]
  },
  {
   "cell_type": "code",
   "execution_count": null,
   "metadata": {},
   "outputs": [],
   "source": [
    "# we can see that the older the movie, the better the rating...\n",
    "# not a very strong correlation, but it is there\n",
    "movies[\"Year\"].astype(\"int64\").corr(movies[\"imdbRating\"])"
   ]
  },
  {
   "cell_type": "code",
   "execution_count": null,
   "metadata": {},
   "outputs": [],
   "source": [
    "# same thing, even a little stronger, for critics\n",
    "movies[\"Year\"].astype(\"int64\").corr(movies[\"Metascore\"])"
   ]
  },
  {
   "cell_type": "markdown",
   "metadata": {
    "collapsed": true
   },
   "source": [
    "# Interesting Things I Found After Finishing the Assignment\n",
    "\n",
    "\n",
    "* Christopher Nolan is the highest frequent director for the top 500 movies!\n",
    "* The Godfather is the highest rated movie with 9.2 imdbRating and a 100 for the Metascore.\n",
    "* Metascore is the rating of critics while IMDB rating is for users on the website. \n",
    "* There is a correlation of 0.42, which is moderate, between Metascore and IMDB rating.\n",
    "* The older the movie, the higher the rating, can be seen as there is a negative correlation between Metascore/imdbRating and Year. This is stronger for critics than IMDB users.\n"
   ]
  }
 ],
 "metadata": {
  "kernelspec": {
   "display_name": "Python 3",
   "language": "python",
   "name": "python3"
  },
  "language_info": {
   "codemirror_mode": {
    "name": "ipython",
    "version": 3
   },
   "file_extension": ".py",
   "mimetype": "text/x-python",
   "name": "python",
   "nbconvert_exporter": "python",
   "pygments_lexer": "ipython3",
   "version": "3.6.1"
  }
 },
 "nbformat": 4,
 "nbformat_minor": 2
}
