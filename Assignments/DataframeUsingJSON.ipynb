{
 "cells": [
  {
   "cell_type": "markdown",
   "metadata": {},
   "source": [
    "# Commands\n",
    "\n",
    "conda create --name myenv\n",
    "\n",
    "source activate myenv\n",
    "\n",
    "ctrl+z suspends the current terminal process\n",
    "bg puts that suspended process and puts it in the background\n",
    "fg put that background process and puts it in the foregounrd\n",
    "\n",
    "start \"jupyter notebook &\" to be in the background"
   ]
  },
  {
   "cell_type": "code",
   "execution_count": 2,
   "metadata": {},
   "outputs": [],
   "source": [
    "#installing isjon conda install -c conda-forge ijson\n",
    "import ijson"
   ]
  },
  {
   "cell_type": "code",
   "execution_count": 3,
   "metadata": {},
   "outputs": [
    {
     "data": {
      "text/plain": [
       "<module 'ijson' from '/Users/osmaah02/.conda/envs/myenv/lib/python3.6/site-packages/ijson/__init__.py'>"
      ]
     },
     "execution_count": 3,
     "metadata": {},
     "output_type": "execute_result"
    }
   ],
   "source": [
    "ijson"
   ]
  }
 ],
 "metadata": {
  "kernelspec": {
   "display_name": "Python 3",
   "language": "python",
   "name": "python3"
  },
  "language_info": {
   "codemirror_mode": {
    "name": "ipython",
    "version": 3
   },
   "file_extension": ".py",
   "mimetype": "text/x-python",
   "name": "python",
   "nbconvert_exporter": "python",
   "pygments_lexer": "ipython3",
   "version": "3.5.1"
  }
 },
 "nbformat": 4,
 "nbformat_minor": 2
}
